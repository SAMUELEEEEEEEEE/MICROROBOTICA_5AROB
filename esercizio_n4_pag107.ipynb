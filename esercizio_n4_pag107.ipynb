{
 "cells": [
  {
   "cell_type": "markdown",
   "id": "21f681c4",
   "metadata": {},
   "source": [
    "## ESERCIZIO\n",
    "Contare il numero di classi nelle quali vi sono almeno due compagni che sono nati\n",
    "lo stesso giorno"
   ]
  },
  {
   "cell_type": "code",
   "execution_count": 1,
   "id": "1fdb41dc",
   "metadata": {},
   "outputs": [],
   "source": [
    "import numpy as np"
   ]
  },
  {
   "cell_type": "code",
   "execution_count": 2,
   "id": "e0f41b4a",
   "metadata": {},
   "outputs": [
    {
     "data": {
      "text/plain": [
       "array([[181, 224, 106, ..., 316, 322, 303],\n",
       "       [175, 154,  12, ..., 267, 243, 331],\n",
       "       [256, 202, 291, ..., 137,  90, 178],\n",
       "       ...,\n",
       "       [118, 144, 317, ..., 313, 261, 342],\n",
       "       [269, 161, 345, ...,  39,  86, 225],\n",
       "       [355, 276, 298, ...,   4, 343, 182]])"
      ]
     },
     "execution_count": 2,
     "metadata": {},
     "output_type": "execute_result"
    }
   ],
   "source": [
    "classi = np.random.choice(np.arange(1, 366), size = (1000, 25))\n",
    "classi"
   ]
  },
  {
   "cell_type": "code",
   "execution_count": 3,
   "id": "af7e1449",
   "metadata": {},
   "outputs": [],
   "source": [
    "classi = np.sort(classi)"
   ]
  },
  {
   "cell_type": "code",
   "execution_count": 4,
   "id": "3ba65052",
   "metadata": {},
   "outputs": [
    {
     "data": {
      "text/plain": [
       "array([[ 44,  48,  63, ..., 303, 316, 322],\n",
       "       [ 12,  38,  44, ..., 331, 332, 340],\n",
       "       [ 25,  80,  90, ..., 302, 305, 316],\n",
       "       ...,\n",
       "       [ 16,  25,  67, ..., 337, 342, 360],\n",
       "       [ 12,  23,  39, ..., 345, 354, 354],\n",
       "       [  2,   4,  23, ..., 355, 363, 365]])"
      ]
     },
     "execution_count": 4,
     "metadata": {},
     "output_type": "execute_result"
    }
   ],
   "source": [
    "classi"
   ]
  },
  {
   "cell_type": "code",
   "execution_count": 5,
   "id": "e0f4611d",
   "metadata": {},
   "outputs": [
    {
     "data": {
      "text/plain": [
       "array([[365,  44,  48, ..., 294, 303, 316],\n",
       "       [322,  12,  38, ..., 308, 331, 332],\n",
       "       [340,  25,  80, ..., 291, 302, 305],\n",
       "       ...,\n",
       "       [360,  16,  25, ..., 317, 337, 342],\n",
       "       [360,  12,  23, ..., 318, 345, 354],\n",
       "       [354,   2,   4, ..., 355, 355, 363]])"
      ]
     },
     "execution_count": 5,
     "metadata": {},
     "output_type": "execute_result"
    }
   ],
   "source": [
    "classi_roll = np.roll(classi, 1)\n",
    "classi_roll"
   ]
  },
  {
   "cell_type": "code",
   "execution_count": 6,
   "id": "893c07ee",
   "metadata": {},
   "outputs": [
    {
     "data": {
      "text/plain": [
       "577"
      ]
     },
     "execution_count": 6,
     "metadata": {},
     "output_type": "execute_result"
    }
   ],
   "source": [
    "np.count_nonzero(np.count_nonzero(classi == classi_roll, 1) >= 1)"
   ]
  },
  {
   "cell_type": "code",
   "execution_count": null,
   "id": "7fd06b67",
   "metadata": {},
   "outputs": [],
   "source": []
  }
 ],
 "metadata": {
  "kernelspec": {
   "display_name": "Python 3 (ipykernel)",
   "language": "python",
   "name": "python3"
  },
  "language_info": {
   "codemirror_mode": {
    "name": "ipython",
    "version": 3
   },
   "file_extension": ".py",
   "mimetype": "text/x-python",
   "name": "python",
   "nbconvert_exporter": "python",
   "pygments_lexer": "ipython3",
   "version": "3.10.9"
  }
 },
 "nbformat": 4,
 "nbformat_minor": 5
}
