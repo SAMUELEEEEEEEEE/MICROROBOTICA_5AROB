{
 "cells": [
  {
   "cell_type": "markdown",
   "id": "6bd4b8f3",
   "metadata": {},
   "source": [
    "# Titolo principale\n",
    "## Titolo secondario\n",
    "### Titolo secondario"
   ]
  },
  {
   "cell_type": "markdown",
   "id": "e94ee4f8",
   "metadata": {},
   "source": [
    "Per andare a capo lasciare una riga vuota"
   ]
  },
  {
   "cell_type": "markdown",
   "id": "b7b7b149",
   "metadata": {},
   "source": [
    "Questa *parola* è importante. Questa **parola** è ancora più importante"
   ]
  },
  {
   "cell_type": "markdown",
   "id": "74fe1820",
   "metadata": {},
   "source": [
    "Un elenco:\n",
    "- a\n",
    "- b\n",
    "- c"
   ]
  },
  {
   "cell_type": "markdown",
   "id": "73dc83e2",
   "metadata": {},
   "source": [
    "Del codice: \n",
    "```\n",
    "lambda f = x : x**2\n",
    "y = f(3)\n",
    "print(y)\n",
    "\n",
    "```\n",
    "cosa fa questo codice?"
   ]
  },
  {
   "cell_type": "code",
   "execution_count": 1,
   "id": "8bb726af",
   "metadata": {},
   "outputs": [],
   "source": [
    "def f(x):\n",
    "    return x**2"
   ]
  },
  {
   "cell_type": "code",
   "execution_count": 4,
   "id": "f46db388",
   "metadata": {},
   "outputs": [],
   "source": [
    "fLambda = lambda x : x**2"
   ]
  },
  {
   "cell_type": "code",
   "execution_count": 5,
   "id": "c9066000",
   "metadata": {},
   "outputs": [
    {
     "data": {
      "text/plain": [
       "9"
      ]
     },
     "execution_count": 5,
     "metadata": {},
     "output_type": "execute_result"
    }
   ],
   "source": [
    "fLambda(3)"
   ]
  },
  {
   "cell_type": "code",
   "execution_count": 7,
   "id": "840c9bc6",
   "metadata": {},
   "outputs": [],
   "source": [
    "somma = lambda a, b : a + b"
   ]
  },
  {
   "cell_type": "code",
   "execution_count": 8,
   "id": "2bc0f08e",
   "metadata": {},
   "outputs": [
    {
     "data": {
      "text/plain": [
       "11"
      ]
     },
     "execution_count": 8,
     "metadata": {},
     "output_type": "execute_result"
    }
   ],
   "source": [
    "somma(5, 6)"
   ]
  },
  {
   "cell_type": "code",
   "execution_count": null,
   "id": "c9776616",
   "metadata": {},
   "outputs": [],
   "source": []
  }
 ],
 "metadata": {
  "kernelspec": {
   "display_name": "Python 3 (ipykernel)",
   "language": "python",
   "name": "python3"
  },
  "language_info": {
   "codemirror_mode": {
    "name": "ipython",
    "version": 3
   },
   "file_extension": ".py",
   "mimetype": "text/x-python",
   "name": "python",
   "nbconvert_exporter": "python",
   "pygments_lexer": "ipython3",
   "version": "3.10.9"
  }
 },
 "nbformat": 4,
 "nbformat_minor": 5
}
