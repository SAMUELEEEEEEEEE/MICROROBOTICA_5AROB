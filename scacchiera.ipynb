{
 "cells": [
  {
   "cell_type": "markdown",
   "id": "09cb18d9",
   "metadata": {},
   "source": [
    "# Esercizio\n",
    "Scacchiera: \n",
    "size\n",
    "input lato (deve essere multiplo di size)\n",
    "Prima sfumare tutto la scacchiera e poi aggiungere i quadratini neri"
   ]
  },
  {
   "cell_type": "code",
   "execution_count": 102,
   "id": "17b87775",
   "metadata": {},
   "outputs": [],
   "source": [
    "import numpy as np\n",
    "import matplotlib.pyplot as plt"
   ]
  },
  {
   "cell_type": "code",
   "execution_count": 144,
   "id": "b97080b6",
   "metadata": {},
   "outputs": [],
   "source": [
    "size = 100\n",
    "side = 10"
   ]
  },
  {
   "cell_type": "code",
   "execution_count": 167,
   "id": "2af5ce40",
   "metadata": {},
   "outputs": [],
   "source": [
    "chessboard = np.zeros((size, size), dtype = \"int16\")"
   ]
  },
  {
   "cell_type": "code",
   "execution_count": 168,
   "id": "d8219167",
   "metadata": {},
   "outputs": [
    {
     "data": {
      "text/plain": [
       "array([[0, 0, 0, ..., 0, 0, 0],\n",
       "       [0, 0, 0, ..., 0, 0, 0],\n",
       "       [0, 0, 0, ..., 0, 0, 0],\n",
       "       ...,\n",
       "       [0, 0, 0, ..., 0, 0, 0],\n",
       "       [0, 0, 0, ..., 0, 0, 0],\n",
       "       [0, 0, 0, ..., 0, 0, 0]], dtype=int16)"
      ]
     },
     "execution_count": 168,
     "metadata": {},
     "output_type": "execute_result"
    }
   ],
   "source": [
    "chessboard"
   ]
  },
  {
   "cell_type": "code",
   "execution_count": 169,
   "id": "e9494790",
   "metadata": {},
   "outputs": [],
   "source": [
    "#chessboard[ : ] = np.arange(0, size)"
   ]
  },
  {
   "cell_type": "code",
   "execution_count": 170,
   "id": "e2671115",
   "metadata": {},
   "outputs": [],
   "source": [
    "chessboard[0 : : 2, 0 : : 2] = 1\n",
    "chessboard[1 : : 2, 1 : : 2] = 1"
   ]
  },
  {
   "cell_type": "code",
   "execution_count": 171,
   "id": "6cc1920b",
   "metadata": {},
   "outputs": [
    {
     "data": {
      "text/plain": [
       "array([[1, 0, 1, ..., 0, 1, 0],\n",
       "       [0, 1, 0, ..., 1, 0, 1],\n",
       "       [1, 0, 1, ..., 0, 1, 0],\n",
       "       ...,\n",
       "       [0, 1, 0, ..., 1, 0, 1],\n",
       "       [1, 0, 1, ..., 0, 1, 0],\n",
       "       [0, 1, 0, ..., 1, 0, 1]], dtype=int16)"
      ]
     },
     "execution_count": 171,
     "metadata": {},
     "output_type": "execute_result"
    }
   ],
   "source": [
    "chessboard"
   ]
  },
  {
   "cell_type": "code",
   "execution_count": 173,
   "id": "05c6b0fa",
   "metadata": {},
   "outputs": [],
   "source": [
    "indexes = np.zeros((size, size), dtype = \"int16\")\n",
    "indexes[ : , : ] = np.arange(0, size)"
   ]
  },
  {
   "cell_type": "code",
   "execution_count": 183,
   "id": "ea065a18",
   "metadata": {},
   "outputs": [
    {
     "data": {
      "text/plain": [
       "array([ 0,  2,  4, ..., 95, 97, 99], dtype=int16)"
      ]
     },
     "execution_count": 183,
     "metadata": {},
     "output_type": "execute_result"
    }
   ],
   "source": [
    "indexes[chessboard == 1]"
   ]
  },
  {
   "cell_type": "code",
   "execution_count": null,
   "id": "18c37008",
   "metadata": {},
   "outputs": [],
   "source": []
  }
 ],
 "metadata": {
  "kernelspec": {
   "display_name": "Python 3 (ipykernel)",
   "language": "python",
   "name": "python3"
  },
  "language_info": {
   "codemirror_mode": {
    "name": "ipython",
    "version": 3
   },
   "file_extension": ".py",
   "mimetype": "text/x-python",
   "name": "python",
   "nbconvert_exporter": "python",
   "pygments_lexer": "ipython3",
   "version": "3.10.9"
  }
 },
 "nbformat": 4,
 "nbformat_minor": 5
}
