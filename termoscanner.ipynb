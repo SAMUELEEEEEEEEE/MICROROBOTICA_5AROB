{
 "cells": [
  {
   "cell_type": "code",
   "execution_count": 1,
   "id": "246e18dc",
   "metadata": {},
   "outputs": [],
   "source": [
    "import numpy as np"
   ]
  },
  {
   "cell_type": "code",
   "execution_count": 2,
   "id": "5b4f9868",
   "metadata": {},
   "outputs": [],
   "source": [
    "numero_passeggeri_giornalieri = 200000"
   ]
  },
  {
   "cell_type": "code",
   "execution_count": 3,
   "id": "492656cf",
   "metadata": {},
   "outputs": [],
   "source": [
    "temperature = np.random.normal(36.5, 0.25, numero_passeggeri_giornalieri)"
   ]
  },
  {
   "cell_type": "code",
   "execution_count": 9,
   "id": "fed8337d",
   "metadata": {},
   "outputs": [],
   "source": [
    "identificativi = np.arange(1, numero_passeggeri_giornalieri + 1)"
   ]
  },
  {
   "cell_type": "code",
   "execution_count": 11,
   "id": "9f7452f1",
   "metadata": {},
   "outputs": [
    {
     "name": "stdout",
     "output_type": "stream",
     "text": [
      "6\n"
     ]
    }
   ],
   "source": [
    "febbre = 37.5\n",
    "passeggeri_con_febbre = np.sum(temperature > febbre)\n",
    "print(passeggeri_con_febbre)"
   ]
  },
  {
   "cell_type": "code",
   "execution_count": 13,
   "id": "38a52ded",
   "metadata": {},
   "outputs": [
    {
     "data": {
      "text/plain": [
       "array([     1,     18,    120, ..., 199717, 199740, 199949])"
      ]
     },
     "execution_count": 13,
     "metadata": {},
     "output_type": "execute_result"
    }
   ],
   "source": [
    "identificativi[temperature > 37]"
   ]
  },
  {
   "cell_type": "code",
   "execution_count": null,
   "id": "078a52b9",
   "metadata": {},
   "outputs": [],
   "source": []
  }
 ],
 "metadata": {
  "kernelspec": {
   "display_name": "Python 3 (ipykernel)",
   "language": "python",
   "name": "python3"
  },
  "language_info": {
   "codemirror_mode": {
    "name": "ipython",
    "version": 3
   },
   "file_extension": ".py",
   "mimetype": "text/x-python",
   "name": "python",
   "nbconvert_exporter": "python",
   "pygments_lexer": "ipython3",
   "version": "3.10.9"
  }
 },
 "nbformat": 4,
 "nbformat_minor": 5
}
