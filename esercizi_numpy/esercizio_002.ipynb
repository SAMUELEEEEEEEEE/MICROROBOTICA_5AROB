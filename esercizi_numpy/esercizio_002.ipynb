{
 "cells": [
  {
   "cell_type": "markdown",
   "id": "c1e52f71",
   "metadata": {},
   "source": [
    "### Esercizio\n",
    "Dato n\n",
    "Creare array 2d: n * n :\n",
    "    \n",
    "    (0 1 0 1 ...\n",
    "     0 1 0 1 ...)"
   ]
  },
  {
   "cell_type": "code",
   "execution_count": 1,
   "id": "e19a0a3a",
   "metadata": {},
   "outputs": [],
   "source": [
    "import numpy as np"
   ]
  },
  {
   "cell_type": "code",
   "execution_count": 2,
   "id": "fbd7070f",
   "metadata": {},
   "outputs": [],
   "source": [
    "n = 8"
   ]
  },
  {
   "cell_type": "code",
   "execution_count": 3,
   "id": "10068c1d",
   "metadata": {},
   "outputs": [],
   "source": [
    "scacchiera = np.zeros((n, n), dtype = np.int8)"
   ]
  },
  {
   "cell_type": "code",
   "execution_count": 4,
   "id": "aa4608cc",
   "metadata": {},
   "outputs": [],
   "source": [
    "scacchiera[: : 2, 1 : : 2] = 1"
   ]
  },
  {
   "cell_type": "code",
   "execution_count": 5,
   "id": "e2ca40ae",
   "metadata": {},
   "outputs": [],
   "source": [
    "scacchiera[1: :2, : : 2] = 1"
   ]
  },
  {
   "cell_type": "code",
   "execution_count": 6,
   "id": "e165a74b",
   "metadata": {},
   "outputs": [
    {
     "data": {
      "text/plain": [
       "array([[0, 1, 0, 1, 0, 1, 0, 1],\n",
       "       [1, 0, 1, 0, 1, 0, 1, 0],\n",
       "       [0, 1, 0, 1, 0, 1, 0, 1],\n",
       "       [1, 0, 1, 0, 1, 0, 1, 0],\n",
       "       [0, 1, 0, 1, 0, 1, 0, 1],\n",
       "       [1, 0, 1, 0, 1, 0, 1, 0],\n",
       "       [0, 1, 0, 1, 0, 1, 0, 1],\n",
       "       [1, 0, 1, 0, 1, 0, 1, 0]], dtype=int8)"
      ]
     },
     "execution_count": 6,
     "metadata": {},
     "output_type": "execute_result"
    }
   ],
   "source": [
    "scacchiera"
   ]
  },
  {
   "cell_type": "code",
   "execution_count": null,
   "id": "a59e16b5",
   "metadata": {},
   "outputs": [],
   "source": []
  }
 ],
 "metadata": {
  "kernelspec": {
   "display_name": "Python 3 (ipykernel)",
   "language": "python",
   "name": "python3"
  },
  "language_info": {
   "codemirror_mode": {
    "name": "ipython",
    "version": 3
   },
   "file_extension": ".py",
   "mimetype": "text/x-python",
   "name": "python",
   "nbconvert_exporter": "python",
   "pygments_lexer": "ipython3",
   "version": "3.10.9"
  }
 },
 "nbformat": 4,
 "nbformat_minor": 5
}
