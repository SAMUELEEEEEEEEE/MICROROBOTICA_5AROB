{
 "cells": [
  {
   "cell_type": "markdown",
   "id": "b09efe7b",
   "metadata": {},
   "source": [
    "# Le lambda function"
   ]
  },
  {
   "cell_type": "code",
   "execution_count": 7,
   "id": "bad26f80",
   "metadata": {},
   "outputs": [],
   "source": [
    "somma = lambda a, b : a + b"
   ]
  },
  {
   "cell_type": "code",
   "execution_count": 8,
   "id": "77a1e5d9",
   "metadata": {},
   "outputs": [
    {
     "data": {
      "text/plain": [
       "5"
      ]
     },
     "execution_count": 8,
     "metadata": {},
     "output_type": "execute_result"
    }
   ],
   "source": [
    "somma(3, 2)"
   ]
  },
  {
   "cell_type": "code",
   "execution_count": 9,
   "id": "631de179",
   "metadata": {},
   "outputs": [
    {
     "data": {
      "text/plain": [
       "2"
      ]
     },
     "execution_count": 9,
     "metadata": {},
     "output_type": "execute_result"
    }
   ],
   "source": [
    "tupla = (1, 2, 3, 4)\n",
    "secondo = lambda tupla : tupla[1]\n",
    "secondo(tupla)"
   ]
  },
  {
   "cell_type": "code",
   "execution_count": null,
   "id": "47051fc3",
   "metadata": {},
   "outputs": [],
   "source": []
  }
 ],
 "metadata": {
  "kernelspec": {
   "display_name": "Python 3 (ipykernel)",
   "language": "python",
   "name": "python3"
  },
  "language_info": {
   "codemirror_mode": {
    "name": "ipython",
    "version": 3
   },
   "file_extension": ".py",
   "mimetype": "text/x-python",
   "name": "python",
   "nbconvert_exporter": "python",
   "pygments_lexer": "ipython3",
   "version": "3.10.9"
  }
 },
 "nbformat": 4,
 "nbformat_minor": 5
}
