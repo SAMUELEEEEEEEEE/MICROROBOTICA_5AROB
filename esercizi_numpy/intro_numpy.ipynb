{
 "cells": [
  {
   "cell_type": "code",
   "execution_count": 1,
   "id": "e061442f",
   "metadata": {},
   "outputs": [],
   "source": [
    "import numpy as np"
   ]
  },
  {
   "cell_type": "code",
   "execution_count": 2,
   "id": "4121cc73",
   "metadata": {},
   "outputs": [
    {
     "name": "stdout",
     "output_type": "stream",
     "text": [
      "377 ms ± 5.93 ms per loop (mean ± std. dev. of 7 runs, 1 loop each)\n"
     ]
    }
   ],
   "source": [
    "%%timeit\n",
    "#%% comandi magici, timeit = calcola il tempo che le istruzioni impiegano ad eseguirsi\n",
    "quadrati = []\n",
    "for i in range(1000000):\n",
    "    quadrati.append(i**2)"
   ]
  },
  {
   "cell_type": "code",
   "execution_count": 3,
   "id": "9ca121bb",
   "metadata": {},
   "outputs": [
    {
     "name": "stdout",
     "output_type": "stream",
     "text": [
      "3.41 ms ± 160 µs per loop (mean ± std. dev. of 7 runs, 100 loops each)\n"
     ]
    }
   ],
   "source": [
    "%%timeit\n",
    "quadrati = np.arange(0, 1000000) ** 2"
   ]
  },
  {
   "cell_type": "markdown",
   "id": "821baa84",
   "metadata": {},
   "source": [
    "### Creare gli array unidimensionali"
   ]
  },
  {
   "cell_type": "code",
   "execution_count": 4,
   "id": "67067b6d",
   "metadata": {},
   "outputs": [
    {
     "data": {
      "text/plain": [
       "array([0., 0., 0., 0., 0., 0., 0., 0., 0., 0.])"
      ]
     },
     "execution_count": 4,
     "metadata": {},
     "output_type": "execute_result"
    }
   ],
   "source": [
    "#Creare array di zeri float\n",
    "array_di_zeri = np.zeros(10)\n",
    "array_di_zeri"
   ]
  },
  {
   "cell_type": "code",
   "execution_count": 5,
   "id": "8075a960",
   "metadata": {},
   "outputs": [
    {
     "data": {
      "text/plain": [
       "dtype('float64')"
      ]
     },
     "execution_count": 5,
     "metadata": {},
     "output_type": "execute_result"
    }
   ],
   "source": [
    "array_di_zeri.dtype"
   ]
  },
  {
   "cell_type": "code",
   "execution_count": 6,
   "id": "a9e5b0b6",
   "metadata": {},
   "outputs": [
    {
     "data": {
      "text/plain": [
       "array([0, 0, 0, 0, 0, 0, 0, 0, 0, 0], dtype=int8)"
      ]
     },
     "execution_count": 6,
     "metadata": {},
     "output_type": "execute_result"
    }
   ],
   "source": [
    "#Array conversione\n",
    "array_di_zeri_int = np.zeros(10, dtype = np.int8)\n",
    "array_di_zeri_int"
   ]
  },
  {
   "cell_type": "code",
   "execution_count": 7,
   "id": "d5efd4f4",
   "metadata": {},
   "outputs": [
    {
     "data": {
      "text/plain": [
       "array([1., 1., 1., 1., 1., 1., 1., 1., 1., 1.])"
      ]
     },
     "execution_count": 7,
     "metadata": {},
     "output_type": "execute_result"
    }
   ],
   "source": [
    "array_di_uni = np.ones(10)\n",
    "array_di_uni"
   ]
  },
  {
   "cell_type": "code",
   "execution_count": 8,
   "id": "c260fa37",
   "metadata": {},
   "outputs": [
    {
     "data": {
      "text/plain": [
       "array([5., 5., 5., 5., 5., 5., 5., 5., 5., 5.])"
      ]
     },
     "execution_count": 8,
     "metadata": {},
     "output_type": "execute_result"
    }
   ],
   "source": [
    "array_di_cinque = np.ones(10) * 5 #BROADCAST\n",
    "array_di_cinque"
   ]
  },
  {
   "cell_type": "code",
   "execution_count": 9,
   "id": "0d6d23ae",
   "metadata": {},
   "outputs": [
    {
     "data": {
      "text/plain": [
       "array([   1,    2,    3,    4, 1000])"
      ]
     },
     "execution_count": 9,
     "metadata": {},
     "output_type": "execute_result"
    }
   ],
   "source": [
    "array_da_lista_numeri = np.array([1, 2, 3, 4, 1000])\n",
    "array_da_lista_numeri"
   ]
  },
  {
   "cell_type": "code",
   "execution_count": 10,
   "id": "a18772d5",
   "metadata": {},
   "outputs": [
    {
     "data": {
      "text/plain": [
       "array(['1', '2', '3', '4', '1000', 'ciao'], dtype='<U11')"
      ]
     },
     "execution_count": 10,
     "metadata": {},
     "output_type": "execute_result"
    }
   ],
   "source": [
    "array_da_lista_numeri = np.array([1, 2, 3, 4, 1000, \"ciao\"])\n",
    "array_da_lista_numeri"
   ]
  },
  {
   "cell_type": "code",
   "execution_count": 11,
   "id": "e36ff08a",
   "metadata": {},
   "outputs": [
    {
     "data": {
      "text/plain": [
       "array([3.92562745, 3.56386525, 4.06219833, 4.52077873, 3.54858399,\n",
       "       3.77784879, 3.83501032, 4.6788117 , 4.24024111, 3.75720255])"
      ]
     },
     "execution_count": 11,
     "metadata": {},
     "output_type": "execute_result"
    }
   ],
   "source": [
    "float_casuali = np.random.uniform(3, 5, 10) # np.random.uniform(a(incluso), b(escluso), c) -> Numero float random tra a, b, di dimensione c\n",
    "float_casuali"
   ]
  },
  {
   "cell_type": "code",
   "execution_count": 12,
   "id": "9e52d0b7",
   "metadata": {},
   "outputs": [
    {
     "data": {
      "text/plain": [
       "array([3, 5, 5, 4, 3, 6, 3, 5, 6, 1])"
      ]
     },
     "execution_count": 12,
     "metadata": {},
     "output_type": "execute_result"
    }
   ],
   "source": [
    "int_casuali = np.random.randint(1, 7, 10) # np.random.randint(a(incluso), b(escluso, c) -> Numero int random tra a, b, di dimensione c\n",
    "int_casuali"
   ]
  },
  {
   "cell_type": "code",
   "execution_count": 13,
   "id": "7d6c9d20",
   "metadata": {},
   "outputs": [],
   "source": [
    "alice = np.random.randint(1, 7, 10)\n",
    "bebo = np.random.randint(1, 7, 10)"
   ]
  },
  {
   "cell_type": "code",
   "execution_count": 14,
   "id": "6d3514b4",
   "metadata": {},
   "outputs": [
    {
     "name": "stdout",
     "output_type": "stream",
     "text": [
      "Lanci del dado di alice [1 1 4 6 4 6 1 5 1 3]\n",
      "Lanci del dado di bebo [1 6 1 3 4 5 1 1 4 4]\n"
     ]
    }
   ],
   "source": [
    "print(f\"Lanci del dado di alice {alice}\")\n",
    "print(f\"Lanci del dado di bebo {bebo}\")"
   ]
  },
  {
   "cell_type": "code",
   "execution_count": 15,
   "id": "61aafcfc",
   "metadata": {},
   "outputs": [
    {
     "data": {
      "text/plain": [
       "array([False, False,  True,  True, False,  True, False,  True, False,\n",
       "       False])"
      ]
     },
     "execution_count": 15,
     "metadata": {},
     "output_type": "execute_result"
    }
   ],
   "source": [
    "alice > bebo"
   ]
  },
  {
   "cell_type": "code",
   "execution_count": 16,
   "id": "5beb31db",
   "metadata": {},
   "outputs": [
    {
     "name": "stdout",
     "output_type": "stream",
     "text": [
      "Alice batte Bebo 4 volte\n"
     ]
    }
   ],
   "source": [
    "print(f\"Alice batte Bebo {np.count_nonzero(alice > bebo)} volte\")"
   ]
  },
  {
   "cell_type": "code",
   "execution_count": 17,
   "id": "0fc3d821",
   "metadata": {},
   "outputs": [],
   "source": [
    "vittorie_alice = alice > bebo"
   ]
  },
  {
   "cell_type": "code",
   "execution_count": 18,
   "id": "0964e697",
   "metadata": {},
   "outputs": [
    {
     "data": {
      "text/plain": [
       "array([False, False,  True,  True, False,  True, False,  True, False,\n",
       "       False])"
      ]
     },
     "execution_count": 18,
     "metadata": {},
     "output_type": "execute_result"
    }
   ],
   "source": [
    "vittorie_alice"
   ]
  },
  {
   "cell_type": "code",
   "execution_count": 19,
   "id": "2abfe243",
   "metadata": {},
   "outputs": [
    {
     "data": {
      "text/plain": [
       "dtype('bool')"
      ]
     },
     "execution_count": 19,
     "metadata": {},
     "output_type": "execute_result"
    }
   ],
   "source": [
    "vittorie_alice.dtype"
   ]
  },
  {
   "cell_type": "code",
   "execution_count": 20,
   "id": "218a8777",
   "metadata": {},
   "outputs": [
    {
     "data": {
      "text/plain": [
       "array([4, 5, 6, 7, 8, 9])"
      ]
     },
     "execution_count": 20,
     "metadata": {},
     "output_type": "execute_result"
    }
   ],
   "source": [
    "array_di_interi = np.arange(4, 10)\n",
    "array_di_interi"
   ]
  },
  {
   "cell_type": "code",
   "execution_count": 21,
   "id": "50fb5724",
   "metadata": {},
   "outputs": [
    {
     "data": {
      "text/plain": [
       "array([  1,   4,   9,  16,  25,  36,  49,  64,  81, 100])"
      ]
     },
     "execution_count": 21,
     "metadata": {},
     "output_type": "execute_result"
    }
   ],
   "source": [
    "quadrati = np.arange(1, 11) ** 2\n",
    "quadrati"
   ]
  },
  {
   "cell_type": "code",
   "execution_count": 22,
   "id": "454456ec",
   "metadata": {},
   "outputs": [
    {
     "data": {
      "text/plain": [
       "array([1, 2, 3, 4])"
      ]
     },
     "execution_count": 22,
     "metadata": {},
     "output_type": "execute_result"
    }
   ],
   "source": [
    "array1 = np.arange(1, 5)\n",
    "array1"
   ]
  },
  {
   "cell_type": "code",
   "execution_count": 23,
   "id": "94084192",
   "metadata": {},
   "outputs": [
    {
     "data": {
      "text/plain": [
       "4"
      ]
     },
     "execution_count": 23,
     "metadata": {},
     "output_type": "execute_result"
    }
   ],
   "source": [
    "len(array1)"
   ]
  },
  {
   "cell_type": "code",
   "execution_count": 24,
   "id": "8049fac4",
   "metadata": {},
   "outputs": [
    {
     "data": {
      "text/plain": [
       "(4,)"
      ]
     },
     "execution_count": 24,
     "metadata": {},
     "output_type": "execute_result"
    }
   ],
   "source": [
    "array1.shape   #(n,) n elementi, unidimensionale"
   ]
  },
  {
   "cell_type": "code",
   "execution_count": 25,
   "id": "3165f9c6",
   "metadata": {},
   "outputs": [
    {
     "data": {
      "text/plain": [
       "array([1., 1., 1., 1.])"
      ]
     },
     "execution_count": 25,
     "metadata": {},
     "output_type": "execute_result"
    }
   ],
   "source": [
    "array2 = np.ones(4)\n",
    "array2"
   ]
  },
  {
   "cell_type": "code",
   "execution_count": 26,
   "id": "5840a93e",
   "metadata": {},
   "outputs": [
    {
     "data": {
      "text/plain": [
       "dtype('int32')"
      ]
     },
     "execution_count": 26,
     "metadata": {},
     "output_type": "execute_result"
    }
   ],
   "source": [
    "array1.dtype"
   ]
  },
  {
   "cell_type": "code",
   "execution_count": 27,
   "id": "5ba1a08f",
   "metadata": {},
   "outputs": [
    {
     "data": {
      "text/plain": [
       "dtype('float64')"
      ]
     },
     "execution_count": 27,
     "metadata": {},
     "output_type": "execute_result"
    }
   ],
   "source": [
    "array2.dtype"
   ]
  },
  {
   "cell_type": "code",
   "execution_count": 28,
   "id": "05626983",
   "metadata": {},
   "outputs": [
    {
     "data": {
      "text/plain": [
       "array([2., 3., 4., 5.])"
      ]
     },
     "execution_count": 28,
     "metadata": {},
     "output_type": "execute_result"
    }
   ],
   "source": [
    "somma = array1 + array2\n",
    "somma"
   ]
  },
  {
   "cell_type": "markdown",
   "id": "0104bd14",
   "metadata": {},
   "source": [
    "## Creazione di array 1D\n",
    "array di zeri:\n",
    "\n",
    "    np.zeros()\n",
    "    \n",
    "array di uni:\n",
    "\n",
    "    np.ones()\n",
    "\n",
    "array da liste:\n",
    "    \n",
    "    np.array()\n",
    "    \n",
    "array di interi crescenti:\n",
    "\n",
    "    np.arange()\n",
    "    \n",
    "array pseudocasuali:\n",
    "\n",
    "    np.randint()\n",
    "    np.uniform()"
   ]
  },
  {
   "cell_type": "markdown",
   "id": "d2c9daf3",
   "metadata": {},
   "source": [
    "## ALTRE FUNZIONI UTILI DI NUMPY\n",
    "\n",
    "    np.random.choice([value list], size)  #Array di una certa size tra i valori della lista\n",
    "\n",
    "    np.sum(array)    #E' possibile inserire delle condizioni sulla somma\n",
    "    \n",
    "    np.where()       #Trova l'indice di un certo elemento"
   ]
  },
  {
   "cell_type": "markdown",
   "id": "42ba349d",
   "metadata": {},
   "source": [
    "## Array pseudo-casuali"
   ]
  },
  {
   "cell_type": "code",
   "execution_count": 29,
   "id": "e63aeaf5",
   "metadata": {},
   "outputs": [
    {
     "data": {
      "text/plain": [
       "array([1, 2, 2, 2, 2, 1, 1, 2, 2, 2])"
      ]
     },
     "execution_count": 29,
     "metadata": {},
     "output_type": "execute_result"
    }
   ],
   "source": [
    "np.random.randint(1, 3, 10)"
   ]
  },
  {
   "cell_type": "code",
   "execution_count": 30,
   "id": "800e05d3",
   "metadata": {},
   "outputs": [
    {
     "data": {
      "text/plain": [
       "array([0.20053569, 0.69489014, 0.3907766 , 0.82283487, 0.55687224,\n",
       "       0.92144312, 0.03106081, 0.49461377, 0.26607932, 0.51884718])"
      ]
     },
     "execution_count": 30,
     "metadata": {},
     "output_type": "execute_result"
    }
   ],
   "source": [
    "np.random.uniform(0, 1, 10)"
   ]
  },
  {
   "cell_type": "code",
   "execution_count": 31,
   "id": "b5cd05c1",
   "metadata": {},
   "outputs": [
    {
     "data": {
      "text/plain": [
       "array([174.58143665, 189.28391979, 185.10185614, 175.685652  ,\n",
       "       178.69966685, 173.26575556, 193.47667925, 180.62463456,\n",
       "       173.21999474, 169.12683781])"
      ]
     },
     "execution_count": 31,
     "metadata": {},
     "output_type": "execute_result"
    }
   ],
   "source": [
    "np.random.normal(175, 12, 10)    #random.normal(media, deviazione standard, n elementi)  "
   ]
  },
  {
   "cell_type": "code",
   "execution_count": 32,
   "id": "47e03e7e",
   "metadata": {},
   "outputs": [
    {
     "data": {
      "text/plain": [
       "array([173.16057466, 174.88185571, 176.26466985, 178.94788201,\n",
       "       175.34434077, 171.35151621, 171.80314182, 175.88359181,\n",
       "       177.16242518, 175.0469715 , 172.2379789 , 175.47510371,\n",
       "       172.71926308, 174.84947323, 176.79157768, 177.13675307,\n",
       "       177.31208961, 172.34779586, 175.31158137, 176.19799276])"
      ]
     },
     "execution_count": 32,
     "metadata": {},
     "output_type": "execute_result"
    }
   ],
   "source": [
    "altezze = np.random.normal(175, 2, 20)\n",
    "altezze"
   ]
  },
  {
   "cell_type": "code",
   "execution_count": 33,
   "id": "10237533",
   "metadata": {},
   "outputs": [
    {
     "data": {
      "text/plain": [
       "175.01132894025966"
      ]
     },
     "execution_count": 33,
     "metadata": {},
     "output_type": "execute_result"
    }
   ],
   "source": [
    "np.mean(altezze)    #mean(valori) = return Media"
   ]
  },
  {
   "cell_type": "code",
   "execution_count": 34,
   "id": "fca05f87",
   "metadata": {},
   "outputs": [
    {
     "data": {
      "text/plain": [
       "2.054939798061566"
      ]
     },
     "execution_count": 34,
     "metadata": {},
     "output_type": "execute_result"
    }
   ],
   "source": [
    "np.std(altezze)    #std(valori) = return Deviazione standard"
   ]
  },
  {
   "cell_type": "markdown",
   "id": "3ba198f7",
   "metadata": {},
   "source": [
    "## Indicizzazione per booleani\n",
    "#### Una delle funzioni più potenti di numpy"
   ]
  },
  {
   "cell_type": "code",
   "execution_count": 35,
   "id": "66f05047",
   "metadata": {},
   "outputs": [
    {
     "data": {
      "text/plain": [
       "array([5, 4, 4, 1, 3, 4, 3, 2, 1, 4])"
      ]
     },
     "execution_count": 35,
     "metadata": {},
     "output_type": "execute_result"
    }
   ],
   "source": [
    "lanci_dadi = np.random.randint(1, 7, 10)\n",
    "lanci_dadi"
   ]
  },
  {
   "cell_type": "markdown",
   "id": "50a23d15",
   "metadata": {},
   "source": [
    "quali sono i lanci in cui il valore del dado era > 3?"
   ]
  },
  {
   "cell_type": "code",
   "execution_count": 36,
   "id": "6af29792",
   "metadata": {},
   "outputs": [
    {
     "data": {
      "text/plain": [
       "array([ True,  True,  True, False, False,  True, False, False, False,\n",
       "        True])"
      ]
     },
     "execution_count": 36,
     "metadata": {},
     "output_type": "execute_result"
    }
   ],
   "source": [
    "lanci_gt_3 = lanci_dadi > 3\n",
    "lanci_gt_3"
   ]
  },
  {
   "cell_type": "code",
   "execution_count": 37,
   "id": "e6a4971e",
   "metadata": {},
   "outputs": [
    {
     "data": {
      "text/plain": [
       "array([5, 4, 4, 4, 4])"
      ]
     },
     "execution_count": 37,
     "metadata": {},
     "output_type": "execute_result"
    }
   ],
   "source": [
    "lanci_dadi[lanci_gt_3]   #Indicizzo array con array di booleani -> filtra i valori solo > 3"
   ]
  },
  {
   "cell_type": "code",
   "execution_count": 38,
   "id": "4929b814",
   "metadata": {},
   "outputs": [],
   "source": [
    "nomi = np.array([\"Alice\", \"Bob\", \"Trudy\"])\n",
    "voti = np.array([7, 9, 2])"
   ]
  },
  {
   "cell_type": "markdown",
   "id": "b04de124",
   "metadata": {},
   "source": [
    "quali alunni sono sufficienti?"
   ]
  },
  {
   "cell_type": "code",
   "execution_count": 39,
   "id": "2b10d6d5",
   "metadata": {},
   "outputs": [
    {
     "data": {
      "text/plain": [
       "array(['Alice', 'Bob'], dtype='<U5')"
      ]
     },
     "execution_count": 39,
     "metadata": {},
     "output_type": "execute_result"
    }
   ],
   "source": [
    "nomi[voti >= 6]"
   ]
  },
  {
   "cell_type": "markdown",
   "id": "e58d957a",
   "metadata": {},
   "source": [
    "### Array bidimensionali - 2d\n",
    "Es: \n",
    "- un'immagine in scale di grigi\n",
    "- un'immagine RGB a colori è costituita da 3 array 2d\n",
    "- un'immagine RGBA a colori è costituita da 4 array 2d\n",
    "- i dati in forma di tabella"
   ]
  },
  {
   "cell_type": "code",
   "execution_count": 43,
   "id": "48b97c5a",
   "metadata": {},
   "outputs": [
    {
     "data": {
      "text/plain": [
       "array([[0., 0., 0., 0., 0., 0.],\n",
       "       [0., 0., 0., 0., 0., 0.],\n",
       "       [0., 0., 0., 0., 0., 0.]])"
      ]
     },
     "execution_count": 43,
     "metadata": {},
     "output_type": "execute_result"
    }
   ],
   "source": [
    "matrice_di_zeri = np.zeros((3,6))    #(n1, n2) : n1 = n di array(righe), n2 = n.elementi(colonne)\n",
    "matrice_di_zeri "
   ]
  },
  {
   "cell_type": "code",
   "execution_count": 44,
   "id": "57649fc0",
   "metadata": {},
   "outputs": [
    {
     "data": {
      "text/plain": [
       "(3, 6)"
      ]
     },
     "execution_count": 44,
     "metadata": {},
     "output_type": "execute_result"
    }
   ],
   "source": [
    "matrice_di_zeri.shape"
   ]
  },
  {
   "cell_type": "code",
   "execution_count": 45,
   "id": "47b7b8f3",
   "metadata": {},
   "outputs": [
    {
     "data": {
      "text/plain": [
       "array([0., 0., 0., 0., 0., 0., 0.])"
      ]
     },
     "execution_count": 45,
     "metadata": {},
     "output_type": "execute_result"
    }
   ],
   "source": [
    "array1d_di_zeri = np.zeros(7)\n",
    "array1d_di_zeri"
   ]
  },
  {
   "cell_type": "code",
   "execution_count": 46,
   "id": "2fa92d0b",
   "metadata": {},
   "outputs": [
    {
     "data": {
      "text/plain": [
       "(7,)"
      ]
     },
     "execution_count": 46,
     "metadata": {},
     "output_type": "execute_result"
    }
   ],
   "source": [
    "array1d_di_zeri.shape"
   ]
  },
  {
   "cell_type": "code",
   "execution_count": 47,
   "id": "084de729",
   "metadata": {},
   "outputs": [
    {
     "data": {
      "text/plain": [
       "array([[1., 1., 1., 1., 1., 1., 1., 1.],\n",
       "       [1., 1., 1., 1., 1., 1., 1., 1.],\n",
       "       [1., 1., 1., 1., 1., 1., 1., 1.],\n",
       "       [1., 1., 1., 1., 1., 1., 1., 1.],\n",
       "       [1., 1., 1., 1., 1., 1., 1., 1.],\n",
       "       [1., 1., 1., 1., 1., 1., 1., 1.],\n",
       "       [1., 1., 1., 1., 1., 1., 1., 1.],\n",
       "       [1., 1., 1., 1., 1., 1., 1., 1.],\n",
       "       [1., 1., 1., 1., 1., 1., 1., 1.],\n",
       "       [1., 1., 1., 1., 1., 1., 1., 1.]])"
      ]
     },
     "execution_count": 47,
     "metadata": {},
     "output_type": "execute_result"
    }
   ],
   "source": [
    "np.ones((10, 8))"
   ]
  },
  {
   "cell_type": "code",
   "execution_count": 48,
   "id": "b817b13e",
   "metadata": {},
   "outputs": [
    {
     "data": {
      "text/plain": [
       "array([[1, 1, 1, 1, 1, 1, 1, 1],\n",
       "       [1, 1, 1, 1, 1, 1, 1, 1],\n",
       "       [1, 1, 1, 1, 1, 1, 1, 1],\n",
       "       [1, 1, 1, 1, 1, 1, 1, 1],\n",
       "       [1, 1, 1, 1, 1, 1, 1, 1],\n",
       "       [1, 1, 1, 1, 1, 1, 1, 1],\n",
       "       [1, 1, 1, 1, 1, 1, 1, 1],\n",
       "       [1, 1, 1, 1, 1, 1, 1, 1],\n",
       "       [1, 1, 1, 1, 1, 1, 1, 1],\n",
       "       [1, 1, 1, 1, 1, 1, 1, 1]], dtype=int8)"
      ]
     },
     "execution_count": 48,
     "metadata": {},
     "output_type": "execute_result"
    }
   ],
   "source": [
    "np.ones((10, 8), dtype = np.int8)"
   ]
  },
  {
   "cell_type": "code",
   "execution_count": 50,
   "id": "cf99f5cc",
   "metadata": {},
   "outputs": [
    {
     "data": {
      "text/plain": [
       "array([[1, 2, 3],\n",
       "       [4, 5, 6]])"
      ]
     },
     "execution_count": 50,
     "metadata": {},
     "output_type": "execute_result"
    }
   ],
   "source": [
    "np.array([[1, 2, 3], [4, 5, 6]])"
   ]
  },
  {
   "cell_type": "code",
   "execution_count": 54,
   "id": "f4446c30",
   "metadata": {},
   "outputs": [
    {
     "data": {
      "text/plain": [
       "array([['1', '2', '3'],\n",
       "       ['4', '5', 'ciao']], dtype='<U11')"
      ]
     },
     "execution_count": 54,
     "metadata": {},
     "output_type": "execute_result"
    }
   ],
   "source": [
    "np.array([[1, 2, 3], [4, 5, \"ciao\"]])"
   ]
  },
  {
   "cell_type": "code",
   "execution_count": 55,
   "id": "90b1ccea",
   "metadata": {},
   "outputs": [
    {
     "data": {
      "text/plain": [
       "array([[5, 5],\n",
       "       [5, 2],\n",
       "       [5, 6],\n",
       "       [2, 4],\n",
       "       [1, 1],\n",
       "       [2, 6],\n",
       "       [2, 1],\n",
       "       [1, 2],\n",
       "       [5, 5],\n",
       "       [5, 6]])"
      ]
     },
     "execution_count": 55,
     "metadata": {},
     "output_type": "execute_result"
    }
   ],
   "source": [
    "np.random.randint(1, 7, (10, 2))"
   ]
  },
  {
   "cell_type": "code",
   "execution_count": 56,
   "id": "0fd78914",
   "metadata": {},
   "outputs": [
    {
     "data": {
      "text/plain": [
       "array([[0.57880284, 0.72650106, 0.88826224, 0.4464077 ],\n",
       "       [0.27101715, 0.15216795, 0.35284203, 0.37985287],\n",
       "       [0.67072533, 0.26389365, 0.84305022, 0.7280351 ],\n",
       "       [0.08324479, 0.63573903, 0.69422184, 0.83130843]])"
      ]
     },
     "execution_count": 56,
     "metadata": {},
     "output_type": "execute_result"
    }
   ],
   "source": [
    "np.random.uniform(0, 1, (4, 4))"
   ]
  },
  {
   "cell_type": "code",
   "execution_count": 57,
   "id": "f25b5f71",
   "metadata": {},
   "outputs": [
    {
     "data": {
      "text/plain": [
       "array([[[0.56388253, 0.92993508],\n",
       "        [0.59695542, 0.4747752 ],\n",
       "        [0.37352128, 0.34420341]],\n",
       "\n",
       "       [[0.34754942, 0.28108518],\n",
       "        [0.44889887, 0.23359609],\n",
       "        [0.9492387 , 0.4277472 ]],\n",
       "\n",
       "       [[0.92051092, 0.98318054],\n",
       "        [0.82520723, 0.90409157],\n",
       "        [0.13079248, 0.11368575]]])"
      ]
     },
     "execution_count": 57,
     "metadata": {},
     "output_type": "execute_result"
    }
   ],
   "source": [
    "array_3d = np.random.uniform(0, 1, (3, 3, 2))\n",
    "array_3d"
   ]
  },
  {
   "cell_type": "code",
   "execution_count": 58,
   "id": "a74faaf7",
   "metadata": {},
   "outputs": [
    {
     "data": {
      "text/plain": [
       "(3, 3, 2)"
      ]
     },
     "execution_count": 58,
     "metadata": {},
     "output_type": "execute_result"
    }
   ],
   "source": [
    "array_3d.shape"
   ]
  },
  {
   "cell_type": "markdown",
   "id": "b6416964",
   "metadata": {},
   "source": [
    "### Operazioni matematiche di aggregazione\n",
    "Per esempio:\n",
    "- somma\n",
    "- massimo / minimo\n",
    "- media\n",
    "- deviazione standard\n",
    "- somma cumulata"
   ]
  },
  {
   "cell_type": "code",
   "execution_count": 63,
   "id": "719c3873",
   "metadata": {},
   "outputs": [
    {
     "data": {
      "text/plain": [
       "5050"
      ]
     },
     "execution_count": 63,
     "metadata": {},
     "output_type": "execute_result"
    }
   ],
   "source": [
    "#somma\n",
    "array = np.arange(1, 101)\n",
    "np.sum(array)"
   ]
  },
  {
   "cell_type": "code",
   "execution_count": 68,
   "id": "835043b9",
   "metadata": {},
   "outputs": [
    {
     "name": "stdout",
     "output_type": "stream",
     "text": [
      "[0.36210231 0.55201518 0.79536024 0.67368856 0.03332127 0.82569156\n",
      " 0.61092548 0.20920634 0.43624132 0.15134202]\n"
     ]
    }
   ],
   "source": [
    "#massimo / minimo\n",
    "array = np.random.uniform(0, 1, 10)\n",
    "print(array)"
   ]
  },
  {
   "cell_type": "code",
   "execution_count": 69,
   "id": "de69836b",
   "metadata": {},
   "outputs": [
    {
     "data": {
      "text/plain": [
       "0.8256915624855705"
      ]
     },
     "execution_count": 69,
     "metadata": {},
     "output_type": "execute_result"
    }
   ],
   "source": [
    "np.max(array) # massimo"
   ]
  },
  {
   "cell_type": "code",
   "execution_count": 70,
   "id": "10d7f15f",
   "metadata": {},
   "outputs": [
    {
     "data": {
      "text/plain": [
       "0.2594660555850418"
      ]
     },
     "execution_count": 70,
     "metadata": {},
     "output_type": "execute_result"
    }
   ],
   "source": [
    "# deviazione standard\n",
    "np.std(array)"
   ]
  },
  {
   "cell_type": "code",
   "execution_count": 72,
   "id": "851231cd",
   "metadata": {},
   "outputs": [
    {
     "data": {
      "text/plain": [
       "array([1., 1., 1., 1., 1., 1., 1., 1., 1., 1.])"
      ]
     },
     "execution_count": 72,
     "metadata": {},
     "output_type": "execute_result"
    }
   ],
   "source": [
    "array_di_uni = np.ones(10)\n",
    "array_di_uni"
   ]
  },
  {
   "cell_type": "code",
   "execution_count": 73,
   "id": "3609644f",
   "metadata": {},
   "outputs": [
    {
     "data": {
      "text/plain": [
       "10.0"
      ]
     },
     "execution_count": 73,
     "metadata": {},
     "output_type": "execute_result"
    }
   ],
   "source": [
    "np.sum(array_di_uni)"
   ]
  },
  {
   "cell_type": "code",
   "execution_count": 74,
   "id": "3a1aabc9",
   "metadata": {},
   "outputs": [
    {
     "data": {
      "text/plain": [
       "array([ 1.,  2.,  3.,  4.,  5.,  6.,  7.,  8.,  9., 10.])"
      ]
     },
     "execution_count": 74,
     "metadata": {},
     "output_type": "execute_result"
    }
   ],
   "source": [
    "np.cumsum(array_di_uni) #somma cumulata"
   ]
  },
  {
   "cell_type": "code",
   "execution_count": 75,
   "id": "bde7a6da",
   "metadata": {},
   "outputs": [],
   "source": [
    "prezzo_apple = 178\n",
    "variazioni = np.array([8, 3, -20, 6])"
   ]
  },
  {
   "cell_type": "code",
   "execution_count": 78,
   "id": "f4831d64",
   "metadata": {},
   "outputs": [
    {
     "data": {
      "text/plain": [
       "array([186, 189, 169, 175])"
      ]
     },
     "execution_count": 78,
     "metadata": {},
     "output_type": "execute_result"
    }
   ],
   "source": [
    "prezzo_apple + np.cumsum(variazioni)"
   ]
  },
  {
   "cell_type": "markdown",
   "id": "83073cb6",
   "metadata": {},
   "source": [
    "### Cambiare forma agli array\n",
    "funzioni : \n",
    "    \n",
    "    np.roll(array, n)  # shiftato di n avanti"
   ]
  },
  {
   "cell_type": "code",
   "execution_count": 80,
   "id": "8ae04c5d",
   "metadata": {},
   "outputs": [
    {
     "data": {
      "text/plain": [
       "array([ 1,  2,  3,  4,  5,  6,  7,  8,  9, 10, 11, 12])"
      ]
     },
     "execution_count": 80,
     "metadata": {},
     "output_type": "execute_result"
    }
   ],
   "source": [
    "array_1d = np.arange(1, 13)\n",
    "array_1d"
   ]
  },
  {
   "cell_type": "code",
   "execution_count": 81,
   "id": "1bc9adae",
   "metadata": {},
   "outputs": [
    {
     "data": {
      "text/plain": [
       "array([[ 1,  2,  3],\n",
       "       [ 4,  5,  6],\n",
       "       [ 7,  8,  9],\n",
       "       [10, 11, 12]])"
      ]
     },
     "execution_count": 81,
     "metadata": {},
     "output_type": "execute_result"
    }
   ],
   "source": [
    "array_1d.reshape((4, 3))"
   ]
  },
  {
   "cell_type": "code",
   "execution_count": 82,
   "id": "0bd5d873",
   "metadata": {},
   "outputs": [
    {
     "data": {
      "text/plain": [
       "array([[ 1,  2],\n",
       "       [ 3,  4],\n",
       "       [ 5,  6],\n",
       "       [ 7,  8],\n",
       "       [ 9, 10],\n",
       "       [11, 12]])"
      ]
     },
     "execution_count": 82,
     "metadata": {},
     "output_type": "execute_result"
    }
   ],
   "source": [
    "array_1d.reshape((6, 2))"
   ]
  },
  {
   "cell_type": "code",
   "execution_count": 83,
   "id": "2ec91469",
   "metadata": {},
   "outputs": [
    {
     "data": {
      "text/plain": [
       "array([[ 1,  2,  3,  4],\n",
       "       [ 5,  6,  7,  8],\n",
       "       [ 9, 10, 11, 12]])"
      ]
     },
     "execution_count": 83,
     "metadata": {},
     "output_type": "execute_result"
    }
   ],
   "source": [
    "array_1d.reshape((3, -1))"
   ]
  },
  {
   "cell_type": "markdown",
   "id": "8dee0556",
   "metadata": {},
   "source": [
    "### Slicing"
   ]
  },
  {
   "cell_type": "code",
   "execution_count": 84,
   "id": "291c6814",
   "metadata": {},
   "outputs": [
    {
     "data": {
      "text/plain": [
       "array([ 1,  2,  3,  4,  5,  6,  7,  8,  9, 10])"
      ]
     },
     "execution_count": 84,
     "metadata": {},
     "output_type": "execute_result"
    }
   ],
   "source": [
    "array1d = np.arange(1, 11)\n",
    "array1d"
   ]
  },
  {
   "cell_type": "code",
   "execution_count": 85,
   "id": "81005ef2",
   "metadata": {},
   "outputs": [
    {
     "data": {
      "text/plain": [
       "4"
      ]
     },
     "execution_count": 85,
     "metadata": {},
     "output_type": "execute_result"
    }
   ],
   "source": [
    "array1d[3]"
   ]
  },
  {
   "cell_type": "code",
   "execution_count": 87,
   "id": "9da034ea",
   "metadata": {},
   "outputs": [
    {
     "data": {
      "text/plain": [
       "array([4, 5, 6, 7, 8])"
      ]
     },
     "execution_count": 87,
     "metadata": {},
     "output_type": "execute_result"
    }
   ],
   "source": [
    "array1d[3 : 8]"
   ]
  },
  {
   "cell_type": "code",
   "execution_count": 88,
   "id": "e2edde37",
   "metadata": {},
   "outputs": [
    {
     "data": {
      "text/plain": [
       "10"
      ]
     },
     "execution_count": 88,
     "metadata": {},
     "output_type": "execute_result"
    }
   ],
   "source": [
    "array1d[-1]"
   ]
  },
  {
   "cell_type": "code",
   "execution_count": 89,
   "id": "6e618dc8",
   "metadata": {},
   "outputs": [
    {
     "data": {
      "text/plain": [
       "9"
      ]
     },
     "execution_count": 89,
     "metadata": {},
     "output_type": "execute_result"
    }
   ],
   "source": [
    "array1d[-2]"
   ]
  },
  {
   "cell_type": "code",
   "execution_count": 90,
   "id": "6497ebdc",
   "metadata": {},
   "outputs": [
    {
     "data": {
      "text/plain": [
       "array([1, 2, 3, 4, 5, 6, 7, 8, 9])"
      ]
     },
     "execution_count": 90,
     "metadata": {},
     "output_type": "execute_result"
    }
   ],
   "source": [
    "array1d[1: -1]"
   ]
  },
  {
   "cell_type": "code",
   "execution_count": 91,
   "id": "657e2d95",
   "metadata": {},
   "outputs": [
    {
     "data": {
      "text/plain": [
       "array([10,  9,  8,  7,  6,  5,  4,  3,  2,  1])"
      ]
     },
     "execution_count": 91,
     "metadata": {},
     "output_type": "execute_result"
    }
   ],
   "source": [
    "array1d[: : -1]"
   ]
  },
  {
   "cell_type": "code",
   "execution_count": 92,
   "id": "0f869dd4",
   "metadata": {},
   "outputs": [
    {
     "data": {
      "text/plain": [
       "array([4, 6, 8])"
      ]
     },
     "execution_count": 92,
     "metadata": {},
     "output_type": "execute_result"
    }
   ],
   "source": [
    "array1d[3: 8: 2]"
   ]
  },
  {
   "cell_type": "code",
   "execution_count": 93,
   "id": "9ffb745f",
   "metadata": {},
   "outputs": [
    {
     "data": {
      "text/plain": [
       "array([[0.77132064, 0.02075195, 0.63364823],\n",
       "       [0.74880388, 0.49850701, 0.22479665],\n",
       "       [0.19806286, 0.76053071, 0.16911084]])"
      ]
     },
     "execution_count": 93,
     "metadata": {},
     "output_type": "execute_result"
    }
   ],
   "source": [
    "np.random.seed(10)   #blocca il seme\n",
    "array2d = np.random.uniform(0 , 1, (3, 3))\n",
    "array2d"
   ]
  },
  {
   "cell_type": "code",
   "execution_count": 94,
   "id": "67b58a93",
   "metadata": {},
   "outputs": [
    {
     "data": {
      "text/plain": [
       "0.771320643266746"
      ]
     },
     "execution_count": 94,
     "metadata": {},
     "output_type": "execute_result"
    }
   ],
   "source": [
    "array2d[0, 0]"
   ]
  },
  {
   "cell_type": "code",
   "execution_count": 95,
   "id": "b50105b9",
   "metadata": {},
   "outputs": [
    {
     "data": {
      "text/plain": [
       "0.22479664553084766"
      ]
     },
     "execution_count": 95,
     "metadata": {},
     "output_type": "execute_result"
    }
   ],
   "source": [
    "array2d[1, 2]"
   ]
  },
  {
   "cell_type": "code",
   "execution_count": 96,
   "id": "15b8435a",
   "metadata": {},
   "outputs": [
    {
     "data": {
      "text/plain": [
       "array([[0.74880388, 0.49850701, 0.22479665],\n",
       "       [0.19806286, 0.76053071, 0.16911084]])"
      ]
     },
     "execution_count": 96,
     "metadata": {},
     "output_type": "execute_result"
    }
   ],
   "source": [
    "array2d[1: ]"
   ]
  },
  {
   "cell_type": "code",
   "execution_count": 97,
   "id": "5d5e3a70",
   "metadata": {},
   "outputs": [
    {
     "data": {
      "text/plain": [
       "array([[0.02075195, 0.63364823],\n",
       "       [0.49850701, 0.22479665],\n",
       "       [0.76053071, 0.16911084]])"
      ]
     },
     "execution_count": 97,
     "metadata": {},
     "output_type": "execute_result"
    }
   ],
   "source": [
    "array2d[:, 1:]"
   ]
  },
  {
   "cell_type": "code",
   "execution_count": 98,
   "id": "5e298e51",
   "metadata": {},
   "outputs": [
    {
     "data": {
      "text/plain": [
       "array([[0.49850701, 0.22479665],\n",
       "       [0.76053071, 0.16911084]])"
      ]
     },
     "execution_count": 98,
     "metadata": {},
     "output_type": "execute_result"
    }
   ],
   "source": [
    "array2d[1:, 1:]"
   ]
  },
  {
   "cell_type": "code",
   "execution_count": 100,
   "id": "ae6a9e55",
   "metadata": {},
   "outputs": [
    {
     "data": {
      "text/plain": [
       "array([[0.77132064, 0.02075195, 0.63364823],\n",
       "       [0.74880388, 0.        , 0.        ],\n",
       "       [0.19806286, 0.        , 0.        ]])"
      ]
     },
     "execution_count": 100,
     "metadata": {},
     "output_type": "execute_result"
    }
   ],
   "source": [
    "array2d[1:, 1:] = 0   #punta sempre all'array originale, i valori cambiano sull'array originale\n",
    "array2d"
   ]
  },
  {
   "cell_type": "code",
   "execution_count": null,
   "id": "7e7c0ba5",
   "metadata": {},
   "outputs": [],
   "source": []
  }
 ],
 "metadata": {
  "kernelspec": {
   "display_name": "Python 3 (ipykernel)",
   "language": "python",
   "name": "python3"
  },
  "language_info": {
   "codemirror_mode": {
    "name": "ipython",
    "version": 3
   },
   "file_extension": ".py",
   "mimetype": "text/x-python",
   "name": "python",
   "nbconvert_exporter": "python",
   "pygments_lexer": "ipython3",
   "version": "3.10.9"
  }
 },
 "nbformat": 4,
 "nbformat_minor": 5
}
