{
 "cells": [
  {
   "cell_type": "markdown",
   "id": "33c7c6f5",
   "metadata": {},
   "source": [
    "# Verifica \n",
    "## Numpy"
   ]
  },
  {
   "cell_type": "markdown",
   "id": "b45baaf6",
   "metadata": {},
   "source": [
    "## Menardi Samuele"
   ]
  },
  {
   "cell_type": "code",
   "execution_count": 1,
   "id": "de282db8",
   "metadata": {},
   "outputs": [],
   "source": [
    "import numpy as np"
   ]
  },
  {
   "cell_type": "code",
   "execution_count": 2,
   "id": "388266b9",
   "metadata": {},
   "outputs": [],
   "source": [
    "# NON CANCELLARE QUESTO CODICE\n",
    "np.random.seed(1234567)\n",
    "prezzo = 50. + np.cumsum(np.random.normal(0,1.,100))"
   ]
  },
  {
   "cell_type": "markdown",
   "id": "bcccfbfa",
   "metadata": {},
   "source": [
    "# Esercizio 1"
   ]
  },
  {
   "cell_type": "markdown",
   "id": "67201011",
   "metadata": {},
   "source": [
    "Ogni giorno tu e un tuo compagno vi giocate la merenda giornaliera lanciando due dadi a sei facce. Ogni giorno, la merenda è tua se dopo un certo numero `n_lanci` di lanci dei due dadi esce un valore maggiore o uguale a 10. Supponendo 200 giorni di scuola totali, scrivi una funzione che:\n",
    "- faccia uso di della libreria `numpy`;\n",
    "- abbia `n_lanci` come parametro;\n",
    "- restituisca il numero totale di giorni in cui vinci tu la merenda, simulando i lanci dei dadi per i 200 giorni di scuola.\n",
    "\n",
    "**[BONUS]** Quanto deve valere `n_lanci` affinchè il gioco sia equo?"
   ]
  },
  {
   "cell_type": "code",
   "execution_count": null,
   "id": "0a30b759",
   "metadata": {},
   "outputs": [],
   "source": [
    "giorni_di_scuola = 200\n",
    "n_lanci = 4"
   ]
  },
  {
   "cell_type": "code",
   "execution_count": null,
   "id": "b0ccae8c",
   "metadata": {},
   "outputs": [],
   "source": [
    "bob = np.random.randint(1, 7, (200, n_lanci)) + np.random.randint(1, 7, (200, n_lanci))\n",
    "alice = np.random.randint(1, 7, (200, n_lanci)) + np.random.randint(1, 7, (200, n_lanci))"
   ]
  },
  {
   "cell_type": "code",
   "execution_count": null,
   "id": "6974b1d9",
   "metadata": {},
   "outputs": [],
   "source": [
    "def n_vittorie_bob(bob, alice):\n",
    "    report_bob = (bob > alice) & (bob >= 10)\n",
    "    report_alice = (alice > bob) & (alice >= 10)\n",
    "    \n",
    "    indici = np.zeros((giorni_di_scuola, n_lanci), dtype = \"int16\")\n",
    "    indici[ : ] = np.arange(0, n_lanci)\n",
    "    \n",
    "    array_indice_bob = np.zeros((giorni_di_scuola, n_lanci), dtype = \"int16\") + n_lanci\n",
    "    array_indice_alice = np.zeros((giorni_di_scuola, n_lanci), dtype = \"int16\") + n_lanci\n",
    "    \n",
    "    array_indice_bob[report_bob == True] = indici[report_bob == True]\n",
    "    array_indice_alice[report_alice == True] = indici[report_alice == True]\n",
    "    \n",
    "    return np.count_nonzero(np.min(array_indice_bob, axis = 1) < np.min(array_indice_alice, axis = 1))"
   ]
  },
  {
   "cell_type": "code",
   "execution_count": null,
   "id": "f8d6e971",
   "metadata": {},
   "outputs": [],
   "source": [
    "print(f\"Bob ha vinto {n_vittorie_bob(bob, alice)} volte\")"
   ]
  },
  {
   "cell_type": "markdown",
   "id": "87854852",
   "metadata": {},
   "source": [
    "# Esercizio 2"
   ]
  },
  {
   "cell_type": "markdown",
   "id": "72d8f546",
   "metadata": {},
   "source": [
    "Creare un notebook jupyter che a partire dal testo contenuto nel file ___\"J_Verne_girodelmondoin80giorni.txt\"___:\n",
    "\n",
    "1. crei un dizionario delle frequenze per ciascun carattere (**line feed escluso**); \n",
    "2. crei il dizionario delle adiacenze per ciascun carattere (**line feed escluso**);\n",
    "3. **[FACOLTATIVO]** crei un indice dei capitoli. Ogni capitolo inizia riportando il numero romano del capitolo e il suo titolo in questo modo:\n",
    "\n",
    ">CAPITOLO XXIX.\n",
    ">\n",
    ">Nel quale si narrano cose che capitano unicamente sulle ferrovie\n",
    ">americane."
   ]
  },
  {
   "cell_type": "code",
   "execution_count": null,
   "id": "45f87146",
   "metadata": {},
   "outputs": [],
   "source": [
    "with open(\"J_Verne_girodelmondoin80giorni.txt\", \"r\", encoding=\"utf-8\") as file:\n",
    "    testo = file.read()\n",
    "testo_feed_escluso = testo.replace(\"\\n\", \" \")"
   ]
  },
  {
   "cell_type": "code",
   "execution_count": null,
   "id": "f89f17a4",
   "metadata": {},
   "outputs": [],
   "source": [
    "lista_caratteri = [carattere for carattere in testo_feed_escluso]"
   ]
  },
  {
   "cell_type": "code",
   "execution_count": null,
   "id": "5f730120",
   "metadata": {},
   "outputs": [],
   "source": [
    "dizionario_frequenze = {}\n",
    "for carattere in lista_caratteri:\n",
    "    if carattere not in dizionario_frequenze:\n",
    "        dizionario_frequenze[carattere] = 1\n",
    "    else:\n",
    "        dizionario_frequenze[carattere] += 1"
   ]
  },
  {
   "cell_type": "code",
   "execution_count": null,
   "id": "9f703335",
   "metadata": {},
   "outputs": [],
   "source": [
    "dizionario_adiacenze = {}\n",
    "for indice, carattere in enumerate(lista_caratteri[ : -1]):\n",
    "    if carattere not in dizionario_adiacenze:\n",
    "        dizionario_adiacenze[carattere] = []\n",
    "        dizionario_adiacenze[carattere].append(lista_caratteri[indice + 1])\n",
    "    else:\n",
    "        if lista_caratteri[indice + 1] not in dizionario_adiacenze[carattere]:\n",
    "            dizionario_adiacenze[carattere].append(lista_caratteri[indice + 1])"
   ]
  },
  {
   "cell_type": "code",
   "execution_count": null,
   "id": "ca928bd9",
   "metadata": {},
   "outputs": [],
   "source": [
    "righe = testo.split(\"\\n\")\n",
    "for indice, riga in enumerate(righe[ : -1]):\n",
    "    if \"CAPITOLO\" in riga:\n",
    "        print(riga)\n",
    "        riga_ = righe[indice + 2]\n",
    "        cont = 2\n",
    "        while riga_ != \"\\n\":\n",
    "            riga_ = righe[indice + cont]\n",
    "            print(riga_)\n",
    "            cont += 1"
   ]
  },
  {
   "cell_type": "markdown",
   "id": "653cd923",
   "metadata": {},
   "source": [
    "# Esercizio 3"
   ]
  },
  {
   "cell_type": "markdown",
   "id": "a8cd45cd",
   "metadata": {},
   "source": [
    "In una classe di 27 alunni ogni alunno riceve 10 valutazioni di una materia assegnate a caso. Le valutazioni possibili sono comprese tra 2 e 10, inclusi gli estremi, e non sono ammessi i mezzi voti.\n",
    "Utilizza numpy per simulare i 27 x 10 voti.\n",
    "Calcola quanti alunni hanno un voto medio > 6."
   ]
  },
  {
   "cell_type": "code",
   "execution_count": 3,
   "id": "d6b02956",
   "metadata": {},
   "outputs": [],
   "source": [
    "n_alunni = 27\n",
    "n_voti = 10\n",
    "voti = np.random.randint(2, 11, (n_alunni, n_voti))"
   ]
  },
  {
   "cell_type": "code",
   "execution_count": 4,
   "id": "707097a6",
   "metadata": {},
   "outputs": [],
   "source": [
    "media = np.mean(voti, axis = 1)"
   ]
  },
  {
   "cell_type": "code",
   "execution_count": 5,
   "id": "5efdeaa8",
   "metadata": {},
   "outputs": [
    {
     "name": "stdout",
     "output_type": "stream",
     "text": [
      "Gli alunni con media sufficiente sono 12\n"
     ]
    }
   ],
   "source": [
    "print(f\"Gli alunni con media sufficiente sono {np.count_nonzero(media >= 6)}\")"
   ]
  },
  {
   "cell_type": "markdown",
   "id": "f84fea60",
   "metadata": {},
   "source": [
    "# Esercizio 4"
   ]
  },
  {
   "cell_type": "markdown",
   "id": "b0cffaba",
   "metadata": {},
   "source": [
    "L'array prezzo definito nella cella sottostante contiene una serie storica giornaliera di un prezzo in Euro. La serie storica ricopre in periodo di 100 giorni\n",
    "Conta il numero di giorni in cui il prezzo è maggiore di 55 euro.\n",
    "Trova i minimi locali del prezzo.\n",
    "Crea un nuovo array identico a prezzo, ma in cui sostituisci il valore 50 a tutti i prezzi che nell'array originale sono inferiori a 50 euro.\n",
    "Traccia un grafico dell'andamento del prezzo così ottenuto."
   ]
  },
  {
   "cell_type": "code",
   "execution_count": 6,
   "id": "194564aa",
   "metadata": {},
   "outputs": [],
   "source": [
    "import matplotlib.pyplot as plt"
   ]
  },
  {
   "cell_type": "code",
   "execution_count": 7,
   "id": "7edc7999",
   "metadata": {},
   "outputs": [
    {
     "name": "stdout",
     "output_type": "stream",
     "text": [
      "Il numero di giorni in cui il prezzo è maggiore di 55 euro è 4\n"
     ]
    }
   ],
   "source": [
    "print(f\"Il numero di giorni in cui il prezzo è maggiore di 55 euro è {np.count_nonzero(prezzo > 55)}\")"
   ]
  },
  {
   "cell_type": "code",
   "execution_count": 8,
   "id": "6ddee0a8",
   "metadata": {},
   "outputs": [],
   "source": [
    "prezzo_dx = np.roll(prezzo, 1)\n",
    "prezzo_sx = np.roll(prezzo, -1)\n",
    "minimo_locale = prezzo[(prezzo < prezzo_dx) & (prezzo < prezzo_sx)]"
   ]
  },
  {
   "cell_type": "code",
   "execution_count": 9,
   "id": "bc888e5a",
   "metadata": {},
   "outputs": [
    {
     "data": {
      "text/plain": [
       "array([49.03582083, 49.74863996, 49.26564544, 50.30364023, 50.09490927,\n",
       "       49.70300206, 49.18410163, 47.08448568, 48.44212718, 46.26516518,\n",
       "       47.01281757, 46.28160029, 46.64567769, 47.84712187, 47.89981415,\n",
       "       48.21879844, 48.81167114, 49.003246  , 50.90703026, 49.30179169,\n",
       "       49.43537751, 48.68825033, 48.80971259, 51.93003099, 54.4031699 ,\n",
       "       54.25667074, 51.4904639 , 53.24669708])"
      ]
     },
     "execution_count": 9,
     "metadata": {},
     "output_type": "execute_result"
    }
   ],
   "source": [
    "minimo_locale"
   ]
  },
  {
   "cell_type": "code",
   "execution_count": 10,
   "id": "59f6a29d",
   "metadata": {},
   "outputs": [],
   "source": [
    "prezzo_modificato = prezzo.copy()\n",
    "prezzo_modificato[(prezzo < 50)] = 50.00"
   ]
  },
  {
   "cell_type": "code",
   "execution_count": 11,
   "id": "e4473fbb",
   "metadata": {},
   "outputs": [
    {
     "data": {
      "text/plain": [
       "[<matplotlib.lines.Line2D at 0x17fe1fc9a20>]"
      ]
     },
     "execution_count": 11,
     "metadata": {},
     "output_type": "execute_result"
    },
    {
     "data": {
      "image/png": "[encoded data removed]",
      "text/plain": [
       "<Figure size 640x480 with 1 Axes>"
      ]
     },
     "metadata": {},
     "output_type": "display_data"
    }
   ],
   "source": [
    "plt.plot(prezzo_modificato)"
   ]
  },
  {
   "cell_type": "code",
   "execution_count": null,
   "id": "822d11bb",
   "metadata": {},
   "outputs": [],
   "source": []
  }
 ],
 "metadata": {
  "kernelspec": {
   "display_name": "Python 3 (ipykernel)",
   "language": "python",
   "name": "python3"
  },
  "language_info": {
   "codemirror_mode": {
    "name": "ipython",
    "version": 3
   },
   "file_extension": ".py",
   "mimetype": "text/x-python",
   "name": "python",
   "nbconvert_exporter": "python",
   "pygments_lexer": "ipython3",
   "version": "3.10.9"
  }
 },
 "nbformat": 4,
 "nbformat_minor": 5
}
