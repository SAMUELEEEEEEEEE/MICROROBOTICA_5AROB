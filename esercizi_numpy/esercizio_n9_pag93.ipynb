{
 "cells": [
  {
   "cell_type": "markdown",
   "id": "f8d36cdb",
   "metadata": {},
   "source": [
    "### Esercizio\n",
    "array sulla media delle altezze dei compagni di classe"
   ]
  },
  {
   "cell_type": "code",
   "execution_count": 1,
   "id": "ad98ee59",
   "metadata": {},
   "outputs": [],
   "source": [
    "import numpy as np"
   ]
  },
  {
   "cell_type": "code",
   "execution_count": 2,
   "id": "cb62f691",
   "metadata": {},
   "outputs": [],
   "source": [
    "altezze = np.random.uniform(160, 200, 20)\n",
    "media = np.mean(altezze)\n",
    "deviazione_standard = np.std(altezze)"
   ]
  },
  {
   "cell_type": "code",
   "execution_count": 3,
   "id": "45cd65ee",
   "metadata": {},
   "outputs": [],
   "source": [
    "altezze_normal = np.random.normal(media, deviazione_standard, 20)"
   ]
  },
  {
   "cell_type": "code",
   "execution_count": 4,
   "id": "9d902d1a",
   "metadata": {},
   "outputs": [
    {
     "data": {
      "text/plain": [
       "array([166.75607447, 183.31625946, 182.36069638, 197.30250706,\n",
       "       195.75595043, 179.52380925, 190.23197594, 192.10728084,\n",
       "       170.31725175, 176.58121883, 173.2547206 , 183.18694933,\n",
       "       162.19154013, 197.48398746, 180.14780648, 174.8039685 ,\n",
       "       180.2275853 , 183.89494093, 175.67915852, 160.19823819])"
      ]
     },
     "execution_count": 4,
     "metadata": {},
     "output_type": "execute_result"
    }
   ],
   "source": [
    "altezze"
   ]
  },
  {
   "cell_type": "code",
   "execution_count": 5,
   "id": "6c626267",
   "metadata": {},
   "outputs": [
    {
     "data": {
      "text/plain": [
       "array([163.34266894, 177.85915715, 185.44657222, 202.41227745,\n",
       "       174.71769576, 180.15186499, 166.56104739, 174.49489143,\n",
       "       187.73460569, 175.87488883, 184.14252272, 168.61741868,\n",
       "       197.71673392, 200.06405296, 155.55394106, 192.70206061,\n",
       "       166.92070779, 172.60687213, 186.60144919, 176.84472529])"
      ]
     },
     "execution_count": 5,
     "metadata": {},
     "output_type": "execute_result"
    }
   ],
   "source": [
    "altezze_normal"
   ]
  },
  {
   "cell_type": "code",
   "execution_count": 6,
   "id": "a9f0eee9",
   "metadata": {},
   "outputs": [
    {
     "data": {
      "text/plain": [
       "array([False, False, False,  True, False, False, False, False, False,\n",
       "       False, False, False, False,  True, False, False, False, False,\n",
       "       False, False])"
      ]
     },
     "execution_count": 6,
     "metadata": {},
     "output_type": "execute_result"
    }
   ],
   "source": [
    "altezze_normal > 200"
   ]
  },
  {
   "cell_type": "code",
   "execution_count": 7,
   "id": "642c4fd5",
   "metadata": {},
   "outputs": [
    {
     "data": {
      "text/plain": [
       "2"
      ]
     },
     "execution_count": 7,
     "metadata": {},
     "output_type": "execute_result"
    }
   ],
   "source": [
    "np.count_nonzero(altezze_normal > 200)"
   ]
  },
  {
   "cell_type": "code",
   "execution_count": 8,
   "id": "7d2fd032",
   "metadata": {},
   "outputs": [
    {
     "data": {
      "text/plain": [
       "array([202.41227745, 200.06405296])"
      ]
     },
     "execution_count": 8,
     "metadata": {},
     "output_type": "execute_result"
    }
   ],
   "source": [
    "altezze_normal[altezze_normal > 200]"
   ]
  },
  {
   "cell_type": "code",
   "execution_count": null,
   "id": "5ddaa806",
   "metadata": {},
   "outputs": [],
   "source": []
  }
 ],
 "metadata": {
  "kernelspec": {
   "display_name": "Python 3 (ipykernel)",
   "language": "python",
   "name": "python3"
  },
  "language_info": {
   "codemirror_mode": {
    "name": "ipython",
    "version": 3
   },
   "file_extension": ".py",
   "mimetype": "text/x-python",
   "name": "python",
   "nbconvert_exporter": "python",
   "pygments_lexer": "ipython3",
   "version": "3.10.9"
  }
 },
 "nbformat": 4,
 "nbformat_minor": 5
}
