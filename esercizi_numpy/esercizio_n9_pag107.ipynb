{
 "cells": [
  {
   "cell_type": "code",
   "execution_count": 1,
   "id": "9290d398",
   "metadata": {},
   "outputs": [],
   "source": [
    "import numpy as np"
   ]
  },
  {
   "cell_type": "code",
   "execution_count": 2,
   "id": "678a6e51",
   "metadata": {},
   "outputs": [],
   "source": [
    "N_PARTITE = 1000"
   ]
  },
  {
   "cell_type": "code",
   "execution_count": 3,
   "id": "3fd7e1df",
   "metadata": {},
   "outputs": [],
   "source": [
    "lanci_bob = np.random.randint(1, 7, N_PARTITE)\n",
    "lanci_alice = np.random.randint(1, 7, N_PARTITE)"
   ]
  },
  {
   "cell_type": "code",
   "execution_count": 4,
   "id": "03ec54ba",
   "metadata": {},
   "outputs": [],
   "source": [
    "lanci_bob_10 = lanci_bob[: 10]\n",
    "lanci_alice_10 = lanci_alice[: 10]"
   ]
  },
  {
   "cell_type": "code",
   "execution_count": 5,
   "id": "e0a12162",
   "metadata": {},
   "outputs": [],
   "source": [
    "punti_vittorie_bob = np.count_nonzero(lanci_bob_10[lanci_bob_10 > lanci_alice_10])\n",
    "punti_vittorie_alice = np.count_nonzero(lanci_bob_10[lanci_alice_10 > lanci_bob_10])"
   ]
  },
  {
   "cell_type": "code",
   "execution_count": 6,
   "id": "cb9bb2dc",
   "metadata": {},
   "outputs": [],
   "source": [
    "punti_pareggi_bob = (np.count_nonzero(lanci_bob_10[lanci_bob_10 == lanci_alice_10])) * 0.5\n",
    "punti_pareggi_alice = (np.count_nonzero(lanci_alice_10[lanci_alice_10 == lanci_bob_10])) * 0.5"
   ]
  },
  {
   "cell_type": "code",
   "execution_count": 7,
   "id": "664fdc49",
   "metadata": {},
   "outputs": [
    {
     "name": "stdout",
     "output_type": "stream",
     "text": [
      "I punti di bob sono: 4.5 -- I punti di alice sono: 5.5\n"
     ]
    }
   ],
   "source": [
    "print(f\"I punti di bob sono: {punti_pareggi_bob + punti_vittorie_bob} -- I punti di alice sono: {punti_pareggi_alice + punti_vittorie_alice}\")"
   ]
  },
  {
   "cell_type": "code",
   "execution_count": 8,
   "id": "711f0a05",
   "metadata": {},
   "outputs": [],
   "source": [
    "b = np.random.choice([1, 2, 3, 4, 5, 6], p = [1/8, 1/8, 1/8, 1/8, 1/4, 1/4])"
   ]
  },
  {
   "cell_type": "code",
   "execution_count": null,
   "id": "cb636187",
   "metadata": {},
   "outputs": [],
   "source": []
  }
 ],
 "metadata": {
  "kernelspec": {
   "display_name": "Python 3 (ipykernel)",
   "language": "python",
   "name": "python3"
  },
  "language_info": {
   "codemirror_mode": {
    "name": "ipython",
    "version": 3
   },
   "file_extension": ".py",
   "mimetype": "text/x-python",
   "name": "python",
   "nbconvert_exporter": "python",
   "pygments_lexer": "ipython3",
   "version": "3.10.9"
  }
 },
 "nbformat": 4,
 "nbformat_minor": 5
}
