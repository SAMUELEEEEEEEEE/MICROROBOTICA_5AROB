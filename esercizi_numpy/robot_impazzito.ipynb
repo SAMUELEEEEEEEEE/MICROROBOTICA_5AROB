{
 "cells": [
  {
   "cell_type": "code",
   "execution_count": 1,
   "id": "fcda97e3",
   "metadata": {},
   "outputs": [],
   "source": [
    "import numpy as np"
   ]
  },
  {
   "cell_type": "code",
   "execution_count": 2,
   "id": "5aae5389",
   "metadata": {},
   "outputs": [],
   "source": [
    "secondi_in_cinque_giorni = (3600 * 24) * 5#(3600 * 24) secondi in un giorno * 5 giorni"
   ]
  },
  {
   "cell_type": "code",
   "execution_count": 3,
   "id": "8bc14b96",
   "metadata": {},
   "outputs": [],
   "source": [
    "movimenti = np.random.choice([-1, 1], secondi_in_cinque_giorni)"
   ]
  },
  {
   "cell_type": "code",
   "execution_count": 4,
   "id": "cbbcbe6a",
   "metadata": {},
   "outputs": [],
   "source": [
    "somma_movimenti = np.sum(movimenti)"
   ]
  },
  {
   "cell_type": "code",
   "execution_count": 5,
   "id": "bd42acae",
   "metadata": {},
   "outputs": [
    {
     "data": {
      "text/plain": [
       "386"
      ]
     },
     "execution_count": 5,
     "metadata": {},
     "output_type": "execute_result"
    }
   ],
   "source": [
    "somma_movimenti    #in cm"
   ]
  },
  {
   "cell_type": "code",
   "execution_count": null,
   "id": "72867089",
   "metadata": {},
   "outputs": [],
   "source": []
  }
 ],
 "metadata": {
  "kernelspec": {
   "display_name": "Python 3 (ipykernel)",
   "language": "python",
   "name": "python3"
  },
  "language_info": {
   "codemirror_mode": {
    "name": "ipython",
    "version": 3
   },
   "file_extension": ".py",
   "mimetype": "text/x-python",
   "name": "python",
   "nbconvert_exporter": "python",
   "pygments_lexer": "ipython3",
   "version": "3.10.9"
  }
 },
 "nbformat": 4,
 "nbformat_minor": 5
}
