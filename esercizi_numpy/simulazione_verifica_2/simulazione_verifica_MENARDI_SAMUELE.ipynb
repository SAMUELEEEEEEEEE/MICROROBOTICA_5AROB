{
 "cells": [
  {
   "cell_type": "markdown",
   "id": "44ce9d47",
   "metadata": {},
   "source": [
    "# Verifica su Python e Numpy\n",
    "### MENARDI SAMUELE"
   ]
  },
  {
   "cell_type": "code",
   "execution_count": 77,
   "id": "6f9ac6d2",
   "metadata": {},
   "outputs": [],
   "source": [
    "import numpy as np\n",
    "import matplotlib.pyplot as plt"
   ]
  },
  {
   "cell_type": "markdown",
   "id": "e75da7dd",
   "metadata": {},
   "source": [
    "## ESERCIZIO 1\n",
    "Il file *10000Pi.txt* contiene le prime 10000 cifre del $\\pi$ in base 10.\n",
    "\n",
    "Crea un programma in Python 3 (decidi se usare Numpy oppure no) che legga il file e generi un dizionario in cui:\n",
    "* le chiavi siano le cifre da 0 a 9,\n",
    "* i valori siano il numero di occorrenze della cifra chiave nelle prime 10000 cifre decimali del $\\pi$.\n",
    "\n",
    "Rispondi alle domande seguenti:\n",
    "* nelle cifre del $\\pi$ capita più spesso uno 0 dopo il 9 oppure un 9 dopo lo 0?\n",
    "* è presente la seguenza 999999? In caso di risposta affermativa individua in quale punto della sequenza di cifre decimali è presente."
   ]
  },
  {
   "cell_type": "code",
   "execution_count": 78,
   "id": "c238539f",
   "metadata": {},
   "outputs": [],
   "source": [
    "#soluzione qui"
   ]
  },
  {
   "cell_type": "code",
   "execution_count": 79,
   "id": "522680e8",
   "metadata": {},
   "outputs": [],
   "source": [
    "with open(\"10000Pi.txt\", \"r\", encoding = \"utf-8\") as file:\n",
    "    testo = file.read()\n",
    "lista_caratteri_testo = [int(carattere) for carattere in testo[2 : -2]]"
   ]
  },
  {
   "cell_type": "code",
   "execution_count": 80,
   "id": "08393df6",
   "metadata": {},
   "outputs": [],
   "source": [
    "dizionario_caratteri_ricorrenze = {} #{numero : occorrenza}\n",
    "for carattere in lista_caratteri_testo:\n",
    "    if carattere not in dizionario_caratteri_ricorrenze:\n",
    "        dizionario_caratteri_ricorrenze[carattere] = 1\n",
    "    else:\n",
    "        dizionario_caratteri_ricorrenze[carattere] += 1"
   ]
  },
  {
   "cell_type": "code",
   "execution_count": 81,
   "id": "cec5987e",
   "metadata": {},
   "outputs": [],
   "source": [
    "array_caratteri_testo = np.array(lista_caratteri_testo)\n",
    "array_caratteri_testo_sx = np.roll(array_caratteri_testo, -1)"
   ]
  },
  {
   "cell_type": "code",
   "execution_count": 82,
   "id": "7a453904",
   "metadata": {},
   "outputs": [
    {
     "data": {
      "text/plain": [
       "115"
      ]
     },
     "execution_count": 82,
     "metadata": {},
     "output_type": "execute_result"
    }
   ],
   "source": [
    "cifre_0_9 = np.count_nonzero((array_caratteri_testo == 0) & (array_caratteri_testo_sx == 9))\n",
    "cifre_0_9"
   ]
  },
  {
   "cell_type": "code",
   "execution_count": 83,
   "id": "e19b0c6f",
   "metadata": {},
   "outputs": [
    {
     "data": {
      "text/plain": [
       "112"
      ]
     },
     "execution_count": 83,
     "metadata": {},
     "output_type": "execute_result"
    }
   ],
   "source": [
    "cifre_9_0 = np.count_nonzero((array_caratteri_testo == 9) & (array_caratteri_testo_sx == 0))\n",
    "cifre_9_0"
   ]
  },
  {
   "cell_type": "code",
   "execution_count": 100,
   "id": "1a165058",
   "metadata": {},
   "outputs": [],
   "source": [
    "s = \"9,9,9,9,9,9\"\n",
    "seq = s.split(\",\")\n",
    "seq_int = [int(carattere) for carattere in seq]\n",
    "sequenza = np.array(seq_int)"
   ]
  },
  {
   "cell_type": "code",
   "execution_count": 101,
   "id": "ae8499e5",
   "metadata": {},
   "outputs": [],
   "source": [
    "array_caratteri_testo_nx_dx = {n : np.roll(array_caratteri_testo, -n) for n in range(1, len(sequenza) + 1)}"
   ]
  },
  {
   "cell_type": "code",
   "execution_count": 102,
   "id": "3f1cd75b",
   "metadata": {},
   "outputs": [],
   "source": [
    "is_sequenza = array_caratteri_testo_nx_dx[1] == sequenza[0]\n",
    "for i in range(1, len(sequenza)):\n",
    "    is_sequenza = is_sequenza & (array_caratteri_testo_nx_dx[i + 1] == sequenza[i])"
   ]
  },
  {
   "cell_type": "code",
   "execution_count": 103,
   "id": "629a4e09",
   "metadata": {},
   "outputs": [],
   "source": [
    "indexes = np.arange(0, len(array_caratteri_testo))"
   ]
  },
  {
   "cell_type": "code",
   "execution_count": 104,
   "id": "0ef2005f",
   "metadata": {},
   "outputs": [
    {
     "data": {
      "text/plain": [
       "array([760])"
      ]
     },
     "execution_count": 104,
     "metadata": {},
     "output_type": "execute_result"
    }
   ],
   "source": [
    "indexes[is_sequenza]"
   ]
  },
  {
   "cell_type": "markdown",
   "id": "8446b35f",
   "metadata": {},
   "source": [
    "## ESERCIZIO 2\n",
    "Dato un numero intero n crea un array numpy unidimensionale fatto in questo modo:\n",
    "\n",
    "    [-n, -n+1, -n+2, ...,-1, 0, 1, ..., n-2, n-1, n]\n",
    "    \n",
    "Per esempio se n=3 l'array è:\n",
    "\n",
    "    [-3, -2, -1, 0, 1, 2, 3]\n",
    "    \n",
    "**NON PUOI USARE CICLI, IF E LISTE**"
   ]
  },
  {
   "cell_type": "code",
   "execution_count": 60,
   "id": "dd7a28bb",
   "metadata": {},
   "outputs": [],
   "source": [
    "#soluzione qui"
   ]
  },
  {
   "cell_type": "code",
   "execution_count": 61,
   "id": "2d366ee6",
   "metadata": {},
   "outputs": [],
   "source": [
    "n = 5"
   ]
  },
  {
   "cell_type": "code",
   "execution_count": 106,
   "id": "c749c4e0",
   "metadata": {},
   "outputs": [
    {
     "data": {
      "text/plain": [
       "array([-5, -4, -3, -2, -1,  0,  1,  2,  3,  4,  5])"
      ]
     },
     "execution_count": 106,
     "metadata": {},
     "output_type": "execute_result"
    }
   ],
   "source": [
    "array = np.arange(-n , n + 1)\n",
    "array"
   ]
  },
  {
   "cell_type": "code",
   "execution_count": 107,
   "id": "ccfc28ff",
   "metadata": {},
   "outputs": [
    {
     "data": {
      "text/plain": [
       "array([-5, -4, -3, -2, -1,  1,  2,  3,  4,  5])"
      ]
     },
     "execution_count": 107,
     "metadata": {},
     "output_type": "execute_result"
    }
   ],
   "source": [
    "array[array != 0]"
   ]
  },
  {
   "cell_type": "markdown",
   "id": "98a5cf14",
   "metadata": {},
   "source": [
    "### ESERCIZIO 3\n",
    "Simula 100 partite di pari e dispari tra Alice e Bob. Ogni partita è giocata con una mano, quindi i numeri mostrati da Alice e da Bob sono sempre compresi tra 1 e 5. **Simula le partite usando un solo array bidimensionale.**\n",
    "\n",
    "Alice dichiara sempre pari e Bob sempre dispari.\n",
    "\n",
    "1) Quante volte vince Alice?\n",
    "\n",
    "2) Se nelle 100 partite Alice fa uscire sempre 3, quante volte vince?\n",
    "\n",
    "**NON PUOI USARE CICLI, IF E LISTE**"
   ]
  },
  {
   "cell_type": "code",
   "execution_count": 63,
   "id": "58177ffd",
   "metadata": {},
   "outputs": [],
   "source": [
    "#soluzione qui\n",
    "#Alice è la prima riga, Bob la seconda"
   ]
  },
  {
   "cell_type": "code",
   "execution_count": 110,
   "id": "5507de8d",
   "metadata": {},
   "outputs": [],
   "source": [
    "n_partite = 100"
   ]
  },
  {
   "cell_type": "code",
   "execution_count": 111,
   "id": "52c3adb9",
   "metadata": {},
   "outputs": [],
   "source": [
    "array_partite = np.random.randint(1, 6, (2, n_partite))"
   ]
  },
  {
   "cell_type": "code",
   "execution_count": 112,
   "id": "55d54872",
   "metadata": {},
   "outputs": [
    {
     "data": {
      "text/plain": [
       "array([ 8,  5,  8,  6,  4,  8,  6,  7,  8,  6,  5,  8,  7,  8,  4,  9,  3,\n",
       "        6,  6,  7,  6,  6, 10,  9,  7,  8,  7,  7,  7,  4,  9,  8, 10,  5,\n",
       "        4,  3,  7,  7,  6,  2,  8,  7,  6,  4,  8,  8,  5,  5,  9,  5,  3,\n",
       "        2,  4, 10,  8,  5,  6,  5,  7,  6,  7,  5,  6,  7,  7,  7,  5,  2,\n",
       "       10,  7,  4,  6,  5,  6,  5,  6,  7,  5,  4,  3,  5,  6,  7,  8,  7,\n",
       "        4,  5,  5,  5,  6,  8,  4,  6,  6,  8,  5,  6,  8,  5,  8])"
      ]
     },
     "execution_count": 112,
     "metadata": {},
     "output_type": "execute_result"
    }
   ],
   "source": [
    "array_partite_somma = np.sum(array_partite, axis = 0)\n",
    "array_partite_somma"
   ]
  },
  {
   "cell_type": "code",
   "execution_count": 113,
   "id": "62b5cad5",
   "metadata": {},
   "outputs": [
    {
     "name": "stdout",
     "output_type": "stream",
     "text": [
      "Alice ha vinto 54 volte\n"
     ]
    }
   ],
   "source": [
    "vittorie_alice = np.count_nonzero(array_partite_somma % 2 == 0)\n",
    "print(f\"Alice ha vinto {vittorie_alice} volte\")"
   ]
  },
  {
   "cell_type": "code",
   "execution_count": 114,
   "id": "96969bd1",
   "metadata": {},
   "outputs": [],
   "source": [
    "array_partite[0] = 3"
   ]
  },
  {
   "cell_type": "code",
   "execution_count": 115,
   "id": "bc35072f",
   "metadata": {},
   "outputs": [
    {
     "name": "stdout",
     "output_type": "stream",
     "text": [
      "Alice ha vinto 54 volte\n"
     ]
    }
   ],
   "source": [
    "vittorie_alice = np.count_nonzero(array_partite_somma % 2 == 0)\n",
    "print(f\"Alice ha vinto {vittorie_alice} volte\")"
   ]
  },
  {
   "cell_type": "markdown",
   "id": "67ec09e9",
   "metadata": {},
   "source": [
    "## ESERCIZIO 4 (BONUS, Facoltativo per DSA)\n",
    "Usa numpy per creare l'immagine seguente composta da n righe e 2n colonne. L'intensità del colore è casuale nella metà sinistra della matrice, a scacchiera nella metà destra. \n",
    "\n",
    "**NON PUOI USARE CICLI, IF E LISTE**\n",
    "\n",
    "Per esempio con n = 10:\n",
    "\n",
    "![matrice](matrice.png)\n",
    "\n",
    "Codice per visualizzare l'immagine:\n",
    "\n",
    "    plt.imshow(mat)"
   ]
  },
  {
   "cell_type": "code",
   "execution_count": 70,
   "id": "744604f2",
   "metadata": {},
   "outputs": [],
   "source": [
    "#soluzione qui\n",
    "import matplotlib.pyplot as plt"
   ]
  },
  {
   "cell_type": "code",
   "execution_count": 71,
   "id": "49756442",
   "metadata": {},
   "outputs": [],
   "source": [
    "righe = 10\n",
    "colonne = righe * 2"
   ]
  },
  {
   "cell_type": "code",
   "execution_count": 72,
   "id": "1302ab13",
   "metadata": {},
   "outputs": [],
   "source": [
    "mat = np.zeros((righe, colonne))"
   ]
  },
  {
   "cell_type": "code",
   "execution_count": 73,
   "id": "bb6264b8",
   "metadata": {},
   "outputs": [],
   "source": [
    "mat[ : : 2, colonne // 2: : 2] = 255\n",
    "mat[1 : : 2, colonne // 2 + 1 : : 2] = 255"
   ]
  },
  {
   "cell_type": "code",
   "execution_count": 74,
   "id": "f84eeee8",
   "metadata": {},
   "outputs": [],
   "source": [
    "mat[ : , : colonne // 2] = np.random.randint(0, 255, (righe, colonne // 2))"
   ]
  },
  {
   "cell_type": "code",
   "execution_count": 75,
   "id": "62940b1b",
   "metadata": {},
   "outputs": [
    {
     "data": {
      "text/plain": [
       "<matplotlib.image.AxesImage at 0x1adc68d73a0>"
      ]
     },
     "execution_count": 75,
     "metadata": {},
     "output_type": "execute_result"
    },
    {
     "data": {
      "image/png": "[encoded data removed]",
      "text/plain": [
       "<Figure size 640x480 with 1 Axes>"
      ]
     },
     "metadata": {},
     "output_type": "display_data"
    }
   ],
   "source": [
    "plt.imshow(mat)"
   ]
  },
  {
   "cell_type": "code",
   "execution_count": null,
   "id": "5031efa7",
   "metadata": {},
   "outputs": [],
   "source": []
  }
 ],
 "metadata": {
  "kernelspec": {
   "display_name": "Python 3 (ipykernel)",
   "language": "python",
   "name": "python3"
  },
  "language_info": {
   "codemirror_mode": {
    "name": "ipython",
    "version": 3
   },
   "file_extension": ".py",
   "mimetype": "text/x-python",
   "name": "python",
   "nbconvert_exporter": "python",
   "pygments_lexer": "ipython3",
   "version": "3.10.9"
  }
 },
 "nbformat": 4,
 "nbformat_minor": 5
}
