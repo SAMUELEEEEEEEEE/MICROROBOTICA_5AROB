{
 "cells": [
  {
   "cell_type": "code",
   "execution_count": 26,
   "id": "3651514c",
   "metadata": {},
   "outputs": [],
   "source": [
    "import numpy as np"
   ]
  },
  {
   "cell_type": "code",
   "execution_count": 27,
   "id": "9b887e45",
   "metadata": {},
   "outputs": [],
   "source": [
    "MEAN = 19\n",
    "STD = 5\n",
    "LEN = 1000"
   ]
  },
  {
   "cell_type": "code",
   "execution_count": 28,
   "id": "b4de74a8",
   "metadata": {},
   "outputs": [],
   "source": [
    "misurazioni_pm10 = np.random.normal(MEAN, STD, LEN)\n",
    "indici = np.arange(0, len(misurazioni_pm10))"
   ]
  },
  {
   "cell_type": "code",
   "execution_count": 29,
   "id": "92c2eabe",
   "metadata": {},
   "outputs": [
    {
     "data": {
      "text/plain": [
       "array([487,  74, 103, 736, 742, 639, 216, 366, 282,  69, 102, 834, 119,\n",
       "       387, 166, 733,   8, 466, 988, 576])"
      ]
     },
     "execution_count": 29,
     "metadata": {},
     "output_type": "execute_result"
    }
   ],
   "source": [
    "indici_a_caso = np.random.choice(np.arange(0, LEN), 20, replace = False)\n",
    "indici_a_caso"
   ]
  },
  {
   "cell_type": "code",
   "execution_count": 30,
   "id": "43532339",
   "metadata": {},
   "outputs": [],
   "source": [
    "misurazioni_pm10[indici_a_caso] = 999.9"
   ]
  },
  {
   "cell_type": "code",
   "execution_count": 32,
   "id": "7d378500",
   "metadata": {},
   "outputs": [
    {
     "data": {
      "text/plain": [
       "18"
      ]
     },
     "execution_count": 32,
     "metadata": {},
     "output_type": "execute_result"
    }
   ],
   "source": [
    "np.count_nonzero((misurazioni_pm10 == 999.9) & np.roll(misurazioni_pm10 != 999.9, 1) & np.roll(misurazioni_pm10 != 999.9, 2) & np.roll(misurazioni_pm10 != 999.9, 3) & np.roll(misurazioni_pm10 != 999.9, 4))"
   ]
  },
  {
   "cell_type": "code",
   "execution_count": 6,
   "id": "9d5c7b13",
   "metadata": {},
   "outputs": [
    {
     "data": {
      "text/plain": [
       "array([ 35,  55, 126, 159, 203, 247, 264, 412, 469, 496, 525, 588, 603,\n",
       "       655, 671, 732, 743, 755, 834, 899])"
      ]
     },
     "execution_count": 6,
     "metadata": {},
     "output_type": "execute_result"
    }
   ],
   "source": [
    "indici[misurazioni_pm10 == 999.9]"
   ]
  },
  {
   "cell_type": "code",
   "execution_count": 7,
   "id": "33f93e16",
   "metadata": {},
   "outputs": [],
   "source": [
    "misurazioni_pm10[indici_a_caso] = MEAN"
   ]
  },
  {
   "cell_type": "code",
   "execution_count": 8,
   "id": "2ecc894d",
   "metadata": {},
   "outputs": [
    {
     "data": {
      "text/plain": [
       "(36.21013939668869, 6.128660969206106, 18.729879620097286)"
      ]
     },
     "execution_count": 8,
     "metadata": {},
     "output_type": "execute_result"
    }
   ],
   "source": [
    "misurazioni_pm10.max(), misurazioni_pm10.min(), misurazioni_pm10.mean()"
   ]
  },
  {
   "cell_type": "code",
   "execution_count": null,
   "id": "bf9aa5f1",
   "metadata": {},
   "outputs": [],
   "source": []
  }
 ],
 "metadata": {
  "kernelspec": {
   "display_name": "Python 3 (ipykernel)",
   "language": "python",
   "name": "python3"
  },
  "language_info": {
   "codemirror_mode": {
    "name": "ipython",
    "version": 3
   },
   "file_extension": ".py",
   "mimetype": "text/x-python",
   "name": "python",
   "nbconvert_exporter": "python",
   "pygments_lexer": "ipython3",
   "version": "3.10.9"
  }
 },
 "nbformat": 4,
 "nbformat_minor": 5
}
