{
 "cells": [
  {
   "cell_type": "markdown",
   "id": "1825409f",
   "metadata": {},
   "source": [
    "### Esercizio 1\n",
    "Nel file `covid-19_gen1.txt` è presente l'RNA di un virus SARS-COV-2. L'RNA è una sequenza in cui si alternano 4 simboli (detti nucleotidi): A, T, C, G.\n",
    "L'RNA del  virus SARS-COV-2 contiene 29903 nucleotidi. Leggi il file e crea un array di Numpy contenente i 29903 elementi, uno per ogni nucleotide secondo l'ordine contenuto nel file.\n",
    "\n",
    "Utilizza Numpy per:\n",
    "1. calcolare la frequenza assoluta di ogni nucleotide;\n",
    "2. calcolare la frequenza assoluta della sequenza A,T,G;\n",
    "4. sapendo che la sequenza A,T,G,T,T,T,G,T,T,T,T,T sta all'inzio del segmento di RNA che codifica la proteina spike, individuare se la proteina spike è presente nell'RNA: in caso affermativo ottenere la posizione iniziale della proteina spike all'interno dell'array. *SUGGERIMENTO*: a partire dall'array di 29903 elementi costruisci la matrice contenente tutte le possibili sequenze di 12 nucleotidi contenute nell'array iniziale."
   ]
  },
  {
   "cell_type": "code",
   "execution_count": 1,
   "id": "4a61aacf",
   "metadata": {},
   "outputs": [],
   "source": [
    "import numpy as np"
   ]
  },
  {
   "cell_type": "code",
   "execution_count": 2,
   "id": "39d8a086",
   "metadata": {},
   "outputs": [],
   "source": [
    "def read_file(nomeFile):\n",
    "    with open(nomeFile, \"r\") as file:\n",
    "        string = file.read()\n",
    "    list_nucleotidi = []\n",
    "    for nucleotide in string:\n",
    "        if nucleotide != \"\\n\":\n",
    "            list_nucleotidi.append(nucleotide)\n",
    "    return list_nucleotidi"
   ]
  },
  {
   "cell_type": "code",
   "execution_count": 3,
   "id": "613020fd",
   "metadata": {},
   "outputs": [],
   "source": [
    "list_nucleotidi = read_file(\"covid-19_gen1.txt\")"
   ]
  },
  {
   "cell_type": "code",
   "execution_count": 4,
   "id": "9635e331",
   "metadata": {},
   "outputs": [
    {
     "data": {
      "text/plain": [
       "array(['A', 'T', 'T', ..., 'A', 'A', 'A'], dtype='<U1')"
      ]
     },
     "execution_count": 4,
     "metadata": {},
     "output_type": "execute_result"
    }
   ],
   "source": [
    "array_nucleotidi = np.array(list_nucleotidi)\n",
    "array_nucleotidi"
   ]
  },
  {
   "cell_type": "markdown",
   "id": "7d24a01e",
   "metadata": {},
   "source": [
    "### Svolgimento 1 punto"
   ]
  },
  {
   "cell_type": "code",
   "execution_count": 5,
   "id": "7daf6b76",
   "metadata": {},
   "outputs": [],
   "source": [
    "a_frequence = np.count_nonzero(array_nucleotidi == \"A\")\n",
    "t_frequence = np.count_nonzero(array_nucleotidi == \"T\")\n",
    "c_frequence = np.count_nonzero(array_nucleotidi == \"C\")\n",
    "g_frequence = np.count_nonzero(array_nucleotidi == \"G\")"
   ]
  },
  {
   "cell_type": "code",
   "execution_count": 6,
   "id": "c76af941",
   "metadata": {},
   "outputs": [
    {
     "name": "stdout",
     "output_type": "stream",
     "text": [
      "A frequence: 8954\n",
      "T frequence: 9594\n",
      "C frequence: 5492\n",
      "G frequence: 5863\n"
     ]
    }
   ],
   "source": [
    "print(f\"A frequence: {a_frequence}\\nT frequence: {t_frequence}\\nC frequence: {c_frequence}\\nG frequence: {g_frequence}\")"
   ]
  },
  {
   "cell_type": "markdown",
   "id": "93d7bdec",
   "metadata": {},
   "source": [
    "### Svolgimento 2 punto"
   ]
  },
  {
   "cell_type": "code",
   "execution_count": 7,
   "id": "087c921a",
   "metadata": {},
   "outputs": [],
   "source": [
    "array_nucleotidi_1dx = np.roll(array_nucleotidi, -1)\n",
    "array_nucleotidi_2dx = np.roll(array_nucleotidi, -2)\n",
    "atg_frequence = np.count_nonzero((array_nucleotidi == \"A\") & (array_nucleotidi_1dx == \"T\") & (array_nucleotidi_2dx == \"G\"))"
   ]
  },
  {
   "cell_type": "code",
   "execution_count": 8,
   "id": "d9086f84",
   "metadata": {},
   "outputs": [
    {
     "name": "stdout",
     "output_type": "stream",
     "text": [
      "Frequence of ATG : 725\n"
     ]
    }
   ],
   "source": [
    "print(f\"Frequence of ATG : {atg_frequence}\")"
   ]
  },
  {
   "cell_type": "markdown",
   "id": "5a35f6e7",
   "metadata": {},
   "source": [
    "### Svolgimento 3 punto"
   ]
  },
  {
   "cell_type": "code",
   "execution_count": 9,
   "id": "edc3809f",
   "metadata": {},
   "outputs": [],
   "source": [
    "array_nucleotidi_3dx = np.roll(array_nucleotidi, -3)\n",
    "array_nucleotidi_4dx = np.roll(array_nucleotidi, -4)\n",
    "array_nucleotidi_5dx = np.roll(array_nucleotidi, -5)\n",
    "array_nucleotidi_6dx = np.roll(array_nucleotidi, -6)\n",
    "array_nucleotidi_7dx = np.roll(array_nucleotidi, -7)\n",
    "array_nucleotidi_8dx = np.roll(array_nucleotidi, -8)\n",
    "array_nucleotidi_9dx = np.roll(array_nucleotidi, -9)\n",
    "array_nucleotidi_10dx = np.roll(array_nucleotidi, -10)\n",
    "array_nucleotidi_11dx = np.roll(array_nucleotidi, -11)"
   ]
  },
  {
   "cell_type": "code",
   "execution_count": 10,
   "id": "0b10b418",
   "metadata": {},
   "outputs": [],
   "source": [
    "indexes = np.arange(0, len(array_nucleotidi))"
   ]
  },
  {
   "cell_type": "code",
   "execution_count": 11,
   "id": "5fd0ea3d",
   "metadata": {},
   "outputs": [
    {
     "data": {
      "text/plain": [
       "array([21562])"
      ]
     },
     "execution_count": 11,
     "metadata": {},
     "output_type": "execute_result"
    }
   ],
   "source": [
    "indexes[(array_nucleotidi == \"A\") & (array_nucleotidi_1dx == \"T\") & (array_nucleotidi_2dx == \"G\")  & (array_nucleotidi_3dx == \"T\") & (array_nucleotidi_4dx == \"T\") & (array_nucleotidi_5dx == \"T\") & (array_nucleotidi_6dx == \"G\") & (array_nucleotidi_7dx == \"T\") & (array_nucleotidi_8dx == \"T\") & (array_nucleotidi_9dx == \"T\") & (array_nucleotidi_10dx == \"T\") & (array_nucleotidi_11dx == \"T\")]"
   ]
  },
  {
   "cell_type": "code",
   "execution_count": 12,
   "id": "82b0d085",
   "metadata": {},
   "outputs": [
    {
     "data": {
      "text/plain": [
       "{0: array(['A', 'T', 'T', ..., 'A', 'A', 'A'], dtype='<U1'),\n",
       " 1: array(['T', 'T', 'A', ..., 'A', 'A', 'A'], dtype='<U1'),\n",
       " 2: array(['T', 'A', 'A', ..., 'A', 'A', 'T'], dtype='<U1'),\n",
       " 3: array(['A', 'A', 'A', ..., 'A', 'T', 'T'], dtype='<U1'),\n",
       " 4: array(['A', 'A', 'G', ..., 'T', 'T', 'A'], dtype='<U1'),\n",
       " 5: array(['A', 'G', 'G', ..., 'T', 'A', 'A'], dtype='<U1'),\n",
       " 6: array(['G', 'G', 'T', ..., 'A', 'A', 'A'], dtype='<U1'),\n",
       " 7: array(['G', 'T', 'T', ..., 'A', 'A', 'G'], dtype='<U1'),\n",
       " 8: array(['T', 'T', 'T', ..., 'A', 'G', 'G'], dtype='<U1'),\n",
       " 9: array(['T', 'T', 'A', ..., 'G', 'G', 'T'], dtype='<U1'),\n",
       " 10: array(['T', 'A', 'T', ..., 'G', 'T', 'T'], dtype='<U1'),\n",
       " 11: array(['A', 'T', 'A', ..., 'T', 'T', 'T'], dtype='<U1')}"
      ]
     },
     "execution_count": 12,
     "metadata": {},
     "output_type": "execute_result"
    }
   ],
   "source": [
    "array_nucleotidi_n_dx = {n : np.roll(array_nucleotidi, -n) for n in range(12)}\n",
    "array_nucleotidi_n_dx"
   ]
  },
  {
   "cell_type": "code",
   "execution_count": 13,
   "id": "a97840a8",
   "metadata": {},
   "outputs": [
    {
     "data": {
      "text/plain": [
       "['A', 'T', 'G', 'T', 'T', 'T', 'G', 'T', 'T', 'T', 'T', 'T']"
      ]
     },
     "execution_count": 13,
     "metadata": {},
     "output_type": "execute_result"
    }
   ],
   "source": [
    "s = \"A,T,G,T,T,T,G,T,T,T,T,T\"\n",
    "sequenza = s.split(\",\")\n",
    "sequenza"
   ]
  },
  {
   "cell_type": "code",
   "execution_count": 14,
   "id": "6cb7e93f",
   "metadata": {},
   "outputs": [],
   "source": [
    "is_sequenza = array_nucleotidi_n_dx[0] == sequenza[0]\n",
    "for i in range(1, 12):\n",
    "    is_sequenza = is_sequenza & (array_nucleotidi_n_dx[i] == sequenza[i])"
   ]
  },
  {
   "cell_type": "code",
   "execution_count": 15,
   "id": "c8dcccf6",
   "metadata": {},
   "outputs": [
    {
     "data": {
      "text/plain": [
       "array([21562])"
      ]
     },
     "execution_count": 15,
     "metadata": {},
     "output_type": "execute_result"
    }
   ],
   "source": [
    "indexes[is_sequenza]"
   ]
  },
  {
   "cell_type": "code",
   "execution_count": null,
   "id": "9b848d4c",
   "metadata": {},
   "outputs": [],
   "source": []
  }
 ],
 "metadata": {
  "kernelspec": {
   "display_name": "Python 3 (ipykernel)",
   "language": "python",
   "name": "python3"
  },
  "language_info": {
   "codemirror_mode": {
    "name": "ipython",
    "version": 3
   },
   "file_extension": ".py",
   "mimetype": "text/x-python",
   "name": "python",
   "nbconvert_exporter": "python",
   "pygments_lexer": "ipython3",
   "version": "3.10.9"
  }
 },
 "nbformat": 4,
 "nbformat_minor": 5
}
