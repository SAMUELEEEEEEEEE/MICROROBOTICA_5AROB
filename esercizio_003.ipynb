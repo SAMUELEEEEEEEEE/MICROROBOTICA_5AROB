{
 "cells": [
  {
   "cell_type": "markdown",
   "id": "7738cc50",
   "metadata": {},
   "source": [
    "### Esercizio\n",
    "Dato v = np.array([1 , 2 , 3, 1, -2, 4, 3, 1, 2])\n",
    "\n",
    "Trovare massimi e minimi, locali e globali sfruttando np.roll()"
   ]
  },
  {
   "cell_type": "code",
   "execution_count": 1,
   "id": "b2423638",
   "metadata": {},
   "outputs": [],
   "source": [
    "import numpy as np"
   ]
  },
  {
   "cell_type": "code",
   "execution_count": 2,
   "id": "e4204f4d",
   "metadata": {},
   "outputs": [],
   "source": [
    "vettore = np.array([1 , 2 , 3, 1, -2, 4, 3, 1, 2])"
   ]
  },
  {
   "cell_type": "code",
   "execution_count": 3,
   "id": "e135cb91",
   "metadata": {},
   "outputs": [
    {
     "data": {
      "text/plain": [
       "array([ 1,  2,  3,  1, -2,  4,  3,  1,  2])"
      ]
     },
     "execution_count": 3,
     "metadata": {},
     "output_type": "execute_result"
    }
   ],
   "source": [
    "vettore"
   ]
  },
  {
   "cell_type": "code",
   "execution_count": 4,
   "id": "69fdb957",
   "metadata": {},
   "outputs": [
    {
     "data": {
      "text/plain": [
       "4"
      ]
     },
     "execution_count": 4,
     "metadata": {},
     "output_type": "execute_result"
    }
   ],
   "source": [
    "massimo_globale = np.max(vettore)\n",
    "massimo_globale"
   ]
  },
  {
   "cell_type": "code",
   "execution_count": 5,
   "id": "5981317f",
   "metadata": {},
   "outputs": [
    {
     "data": {
      "text/plain": [
       "-2"
      ]
     },
     "execution_count": 5,
     "metadata": {},
     "output_type": "execute_result"
    }
   ],
   "source": [
    "minimo_globale = np.min(vettore)\n",
    "minimo_globale"
   ]
  },
  {
   "cell_type": "code",
   "execution_count": 6,
   "id": "d66f852c",
   "metadata": {},
   "outputs": [
    {
     "data": {
      "text/plain": [
       "array([ 2,  1,  2,  3,  1, -2,  4,  3,  1])"
      ]
     },
     "execution_count": 6,
     "metadata": {},
     "output_type": "execute_result"
    }
   ],
   "source": [
    "vettore_dx = np.roll(vettore, 1)\n",
    "vettore_dx"
   ]
  },
  {
   "cell_type": "code",
   "execution_count": 7,
   "id": "e2a319da",
   "metadata": {},
   "outputs": [
    {
     "data": {
      "text/plain": [
       "array([ 2,  3,  1, -2,  4,  3,  1,  2,  1])"
      ]
     },
     "execution_count": 7,
     "metadata": {},
     "output_type": "execute_result"
    }
   ],
   "source": [
    "vettore_sx = np.roll(vettore, -1)\n",
    "vettore_sx"
   ]
  },
  {
   "cell_type": "code",
   "execution_count": 8,
   "id": "e444b470",
   "metadata": {},
   "outputs": [
    {
     "data": {
      "text/plain": [
       "array([3, 4, 2])"
      ]
     },
     "execution_count": 8,
     "metadata": {},
     "output_type": "execute_result"
    }
   ],
   "source": [
    "massimo_locale = vettore[(vettore > vettore_sx) & (vettore > vettore_dx)]\n",
    "massimo_locale"
   ]
  },
  {
   "cell_type": "code",
   "execution_count": 9,
   "id": "b7849c42",
   "metadata": {},
   "outputs": [
    {
     "data": {
      "text/plain": [
       "array([ 1, -2,  1])"
      ]
     },
     "execution_count": 9,
     "metadata": {},
     "output_type": "execute_result"
    }
   ],
   "source": [
    "minimo_locale = vettore[(vettore < vettore_sx) & (vettore < vettore_dx)]\n",
    "minimo_locale"
   ]
  },
  {
   "cell_type": "code",
   "execution_count": null,
   "id": "62795357",
   "metadata": {},
   "outputs": [],
   "source": []
  }
 ],
 "metadata": {
  "kernelspec": {
   "display_name": "Python 3 (ipykernel)",
   "language": "python",
   "name": "python3"
  },
  "language_info": {
   "codemirror_mode": {
    "name": "ipython",
    "version": 3
   },
   "file_extension": ".py",
   "mimetype": "text/x-python",
   "name": "python",
   "nbconvert_exporter": "python",
   "pygments_lexer": "ipython3",
   "version": "3.10.9"
  }
 },
 "nbformat": 4,
 "nbformat_minor": 5
}
