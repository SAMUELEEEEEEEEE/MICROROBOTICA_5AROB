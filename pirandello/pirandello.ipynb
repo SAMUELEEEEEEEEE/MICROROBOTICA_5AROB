{
 "cells": [
  {
   "cell_type": "markdown",
   "metadata": {},
   "source": [
    "### Esercizio su _Sei personaggi in cerca di autore_ di Pirandello"
   ]
  },
  {
   "cell_type": "code",
   "execution_count": 1,
   "metadata": {},
   "outputs": [],
   "source": [
    "import random"
   ]
  },
  {
   "cell_type": "code",
   "execution_count": 2,
   "metadata": {},
   "outputs": [],
   "source": [
    "#Constants\n",
    "BAD_CHARS = [\",\", \";\", \".\", \":\", \"!\", \"?\", \"'\", \"(\", \")\", \">>\", \"<<\", \"-\"]\n",
    "GOOD_CHAR = \" \""
   ]
  },
  {
   "cell_type": "code",
   "execution_count": 3,
   "metadata": {},
   "outputs": [],
   "source": [
    "class TextGenerator():\n",
    "    \"\"\"\n",
    "    This class is able to read a file and generate a sentence file's words\n",
    "    \"\"\"\n",
    "    def __init__(self, file_path, bad_chars = BAD_CHARS, good_char = GOOD_CHAR):\n",
    "        self.file_path = file_path\n",
    "        self.bad_chars = bad_chars\n",
    "        self.good_char = good_char\n",
    "        self.words = []\n",
    "        self.words_next = {}\n",
    "    \n",
    "    def file_2_listOfwords(self):\n",
    "        \"\"\"\n",
    "        This function returns the list of words contained in a file.\n",
    "        Parameters:\n",
    "        - file: str, file name\n",
    "        - bad_chars: list of chars to be removed\n",
    "        - good_char: str, replacement char\n",
    "\n",
    "        Returns\n",
    "        - list of strings\n",
    "        \"\"\"\n",
    "        file = open(self.file_path, \"r\", encoding=\"utf-8\")\n",
    "        lines = file.readlines()\n",
    "        file.close()\n",
    "        lines_without_carriage_return = [line[:-1] for line in lines\n",
    "                                     if len(line) > 1]\n",
    "        book = \" \".join(lines_without_carriage_return).lower()\n",
    "\n",
    "        for bad_char in self.bad_chars:\n",
    "            book = book.replace(bad_char, self.good_char)\n",
    "\n",
    "        self.words = book.split(\" \") #split\n",
    "        self.words = [word for word in self.words if len(word) > 0] #removing empty words\n",
    "    \n",
    "    def fit(self):\n",
    "        \"\"\"\n",
    "        This method train our model to create sentence\n",
    "        \"\"\"\n",
    "        self.file_2_listOfwords()\n",
    "        \n",
    "        for index, word in enumerate(self.words):\n",
    "            if index != len(self.words) - 1:\n",
    "                if word not in self.words_next:\n",
    "                    self.words_next[word] = [self.words[index + 1]]\n",
    "                else:\n",
    "                    self.words_next[word].append(self.words[index + 1])\n",
    "    \n",
    "    def generate(self, initial_word, lenght):\n",
    "        \"\"\"\n",
    "        This method generate the sentence\n",
    "        \n",
    "        Parametres:\n",
    "        -initial_word: string of the first word of the sentence\n",
    "        -lenght: sentence lenght\n",
    "        \n",
    "        Returns:\n",
    "        -sentence: generated sentence\n",
    "        \"\"\"\n",
    "        if initial_word in self.words_next:\n",
    "            sentence = initial_word + \" \"\n",
    "            prec = initial_word\n",
    "            for count in range (lenght):\n",
    "                random_word = random.choice(self.words_next[prec])#word chosen in the words_next\n",
    "                sentence += random_word + \" \"\n",
    "                prec = random_word#the chosen word will become the word of the next turn\n",
    "            return sentence[:-1] + \".\"\n",
    "        else:\n",
    "            print(\"Word not in dictionary\")\n",
    "            return"
   ]
  },
  {
   "cell_type": "code",
   "execution_count": 5,
   "metadata": {},
   "outputs": [
    {
     "data": {
      "text/plain": [
       "'il capocomico subito con la prego signore vede è accecato ah benissimo rivolgendosi quasi le braccia solo per le levi io.'"
      ]
     },
     "execution_count": 5,
     "metadata": {},
     "output_type": "execute_result"
    }
   ],
   "source": [
    "textGenerator = TextGenerator(\"./sei_personaggi_in_cerca_dautore_Luigi_Pirandello.txt\")\n",
    "textGenerator.fit()\n",
    "textGenerator.generate(\"il\", 20)"
   ]
  },
  {
   "cell_type": "code",
   "execution_count": null,
   "metadata": {},
   "outputs": [],
   "source": [
    "def next_couple_words(words):\n",
    "    \"\"\"\n",
    "    This function return a dictionary where keys are a couple of word followed by a list of the next words.\n",
    "    \n",
    "    Parametres:\n",
    "    -words: list of words\n",
    "    \n",
    "    Returns:\n",
    "    -words_next: dictionary\n",
    "    \"\"\"\n",
    "    words_next = {}#dict {\"(word1, word2)\" : [\"next_word\"]}\n",
    "    for index, word in enumerate(words):\n",
    "        if index < len(words) - 2:\n",
    "            if (words[index], words[index + 1]) not in words_next:\n",
    "                #if the couple of words is not yet in the dictionary -> add and create the following words list\n",
    "                words_next[(words[index], words[index + 1])] = [words[index + 2]]  \n",
    "            else:\n",
    "                words_next[(words[index], words[index + 1])].append(words[index + 2])\n",
    "    return words_next"
   ]
  },
  {
   "cell_type": "code",
   "execution_count": null,
   "metadata": {},
   "outputs": [],
   "source": [
    "def generate_sentence_with_next_couple_words(initial_word, words_couple_next, sentence_lenght = 20):\n",
    "    \"\"\"\n",
    "    This function returns a generated sentence made by a random choice \n",
    "    on the next_couple_words dictionary\n",
    "    Parametres:\n",
    "    -sentence_lenght: lenght of the sentence you want\n",
    "    \n",
    "    Returns:\n",
    "    -sentence: string contains generated sentence\n",
    "    \"\"\"\n",
    "    sentence = f\"{initial_word[0]} {initial_word[1]} \"\n",
    "    prec = initial_word\n",
    "    for count in range (sentence_lenght):\n",
    "        random_word = random.choice(words_couple_next[prec])#word chosen in the words_couple_next\n",
    "        sentence += random_word + \" \"\n",
    "        prec = (prec[1], random_word)#the chosen word will become the word of the next turn with the second word of the tuple\n",
    "    return sentence[:-1] + \".\""
   ]
  }
 ],
 "metadata": {
  "kernelspec": {
   "display_name": "Python 3 (ipykernel)",
   "language": "python",
   "name": "python3"
  },
  "language_info": {
   "codemirror_mode": {
    "name": "ipython",
    "version": 3
   },
   "file_extension": ".py",
   "mimetype": "text/x-python",
   "name": "python",
   "nbconvert_exporter": "python",
   "pygments_lexer": "ipython3",
   "version": "3.10.9"
  }
 },
 "nbformat": 4,
 "nbformat_minor": 4
}
