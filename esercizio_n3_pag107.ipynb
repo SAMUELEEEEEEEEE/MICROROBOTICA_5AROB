{
 "cells": [
  {
   "cell_type": "markdown",
   "id": "6a77f9c6",
   "metadata": {},
   "source": [
    "### Esercizio\n",
    "Diecimila partite - mille lanci per partita - 55% per cento di croce?"
   ]
  },
  {
   "cell_type": "code",
   "execution_count": 2,
   "id": "b53a1f29",
   "metadata": {},
   "outputs": [],
   "source": [
    "import numpy as np"
   ]
  },
  {
   "cell_type": "code",
   "execution_count": 5,
   "id": "27d1b0f4",
   "metadata": {},
   "outputs": [],
   "source": [
    "N_MATCH = 10000\n",
    "N_FLIPS = 1000"
   ]
  },
  {
   "cell_type": "code",
   "execution_count": 6,
   "id": "fba310c0",
   "metadata": {},
   "outputs": [],
   "source": [
    "faces = np.array([\"testa\", \"croce\"])"
   ]
  },
  {
   "cell_type": "code",
   "execution_count": 30,
   "id": "676cac8f",
   "metadata": {},
   "outputs": [
    {
     "data": {
      "text/plain": [
       "array([['testa', 'testa', 'testa', ..., 'testa', 'testa', 'testa'],\n",
       "       ['croce', 'croce', 'croce', ..., 'croce', 'testa', 'croce'],\n",
       "       ['croce', 'testa', 'croce', ..., 'croce', 'testa', 'croce'],\n",
       "       ...,\n",
       "       ['croce', 'croce', 'testa', ..., 'testa', 'testa', 'croce'],\n",
       "       ['testa', 'testa', 'testa', ..., 'croce', 'testa', 'testa'],\n",
       "       ['croce', 'croce', 'croce', ..., 'croce', 'testa', 'croce']],\n",
       "      dtype='<U5')"
      ]
     },
     "execution_count": 30,
     "metadata": {},
     "output_type": "execute_result"
    }
   ],
   "source": [
    "flips_matches = np.random.choice(faces, (N_MATCH, N_FLIPS))\n",
    "flips_matches"
   ]
  },
  {
   "cell_type": "code",
   "execution_count": 44,
   "id": "71681f6a",
   "metadata": {},
   "outputs": [],
   "source": [
    "number_of_match_croce_tg55 = 0\n",
    "for match_counter in range(len(flips_matches)):\n",
    "    number_of_croce = np.count_nonzero(flips_matches[match_counter] == \"croce\")\n",
    "    number_of_testa = np.count_nonzero(flips_matches[match_counter] == \"testa\")\n",
    "    percentage_of_croce = number_of_croce * 100 / N_FLIPS\n",
    "    if percentage_of_croce >= 55:\n",
    "        number_of_match_croce_tg55 += 1"
   ]
  },
  {
   "cell_type": "code",
   "execution_count": 47,
   "id": "4083eadd",
   "metadata": {},
   "outputs": [
    {
     "name": "stdout",
     "output_type": "stream",
     "text": [
      "In 12 partite il 55% dei 1000 è croce\n"
     ]
    }
   ],
   "source": [
    "print(f\"In {number_of_match_croce_tg55} partite il 55% dei {N_FLIPS} è croce\")"
   ]
  },
  {
   "cell_type": "markdown",
   "id": "436940c2",
   "metadata": {},
   "source": [
    "# ----------"
   ]
  },
  {
   "cell_type": "code",
   "execution_count": 3,
   "id": "6957ce8e",
   "metadata": {},
   "outputs": [
    {
     "data": {
      "text/plain": [
       "array([[0., 1., 2., 3., 4.],\n",
       "       [0., 1., 2., 3., 4.],\n",
       "       [0., 1., 2., 3., 4.],\n",
       "       [0., 1., 2., 3., 4.]])"
      ]
     },
     "execution_count": 3,
     "metadata": {},
     "output_type": "execute_result"
    }
   ],
   "source": [
    "vett = np.zeros((4, 5))\n",
    "vett[:] = np.arange(0, 5)\n",
    "vett"
   ]
  },
  {
   "cell_type": "code",
   "execution_count": 4,
   "id": "362ae01f",
   "metadata": {},
   "outputs": [
    {
     "data": {
      "text/plain": [
       "40.0"
      ]
     },
     "execution_count": 4,
     "metadata": {},
     "output_type": "execute_result"
    }
   ],
   "source": [
    "np.sum(vett)"
   ]
  },
  {
   "cell_type": "code",
   "execution_count": 6,
   "id": "3836c4fb",
   "metadata": {},
   "outputs": [
    {
     "data": {
      "text/plain": [
       "array([ 0.,  4.,  8., 12., 16.])"
      ]
     },
     "execution_count": 6,
     "metadata": {},
     "output_type": "execute_result"
    }
   ],
   "source": [
    "np.sum(vett, axis = 0)"
   ]
  },
  {
   "cell_type": "code",
   "execution_count": 5,
   "id": "eec6ca56",
   "metadata": {},
   "outputs": [
    {
     "data": {
      "text/plain": [
       "array([10., 10., 10., 10.])"
      ]
     },
     "execution_count": 5,
     "metadata": {},
     "output_type": "execute_result"
    }
   ],
   "source": [
    "np.sum(vett, axis = 1)"
   ]
  },
  {
   "cell_type": "code",
   "execution_count": 7,
   "id": "e298daec",
   "metadata": {},
   "outputs": [
    {
     "data": {
      "text/plain": [
       "4.0"
      ]
     },
     "execution_count": 7,
     "metadata": {},
     "output_type": "execute_result"
    }
   ],
   "source": [
    "np.max(vett)"
   ]
  },
  {
   "cell_type": "code",
   "execution_count": 8,
   "id": "6e9aa7db",
   "metadata": {},
   "outputs": [
    {
     "data": {
      "text/plain": [
       "array([0., 1., 2., 3., 4.])"
      ]
     },
     "execution_count": 8,
     "metadata": {},
     "output_type": "execute_result"
    }
   ],
   "source": [
    "np.max(vett, axis = 0)"
   ]
  },
  {
   "cell_type": "code",
   "execution_count": 9,
   "id": "0a10e0cd",
   "metadata": {},
   "outputs": [
    {
     "data": {
      "text/plain": [
       "array([4., 4., 4., 4.])"
      ]
     },
     "execution_count": 9,
     "metadata": {},
     "output_type": "execute_result"
    }
   ],
   "source": [
    "np.max(vett, axis = 1)"
   ]
  },
  {
   "cell_type": "code",
   "execution_count": null,
   "id": "5700d7ec",
   "metadata": {},
   "outputs": [],
   "source": []
  }
 ],
 "metadata": {
  "kernelspec": {
   "display_name": "Python 3 (ipykernel)",
   "language": "python",
   "name": "python3"
  },
  "language_info": {
   "codemirror_mode": {
    "name": "ipython",
    "version": 3
   },
   "file_extension": ".py",
   "mimetype": "text/x-python",
   "name": "python",
   "nbconvert_exporter": "python",
   "pygments_lexer": "ipython3",
   "version": "3.10.9"
  }
 },
 "nbformat": 4,
 "nbformat_minor": 5
}
