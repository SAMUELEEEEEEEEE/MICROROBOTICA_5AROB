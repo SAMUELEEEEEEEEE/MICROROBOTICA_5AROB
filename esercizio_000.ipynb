{
 "cells": [
  {
   "cell_type": "markdown",
   "id": "7310d439",
   "metadata": {},
   "source": [
    "### Esercizio\n",
    "Dato n intero, generare l'array 2d fatto in questo modo:\n",
    "\n",
    "    [[1, 2, 3, ..., n],\n",
    "     [1, 2, 3, ..., n],\n",
    "     ...\n",
    "     ...\n",
    "     [1, 2, 3, ..., n]\n",
    "\n",
    "con n righe"
   ]
  },
  {
   "cell_type": "code",
   "execution_count": 1,
   "id": "582fe4a5",
   "metadata": {},
   "outputs": [],
   "source": [
    "import numpy as np"
   ]
  },
  {
   "cell_type": "code",
   "execution_count": 7,
   "id": "ccb18d43",
   "metadata": {},
   "outputs": [
    {
     "data": {
      "text/plain": [
       "array([[1, 2, 3, 0],\n",
       "       [1, 2, 3, 0],\n",
       "       [1, 2, 3, 0],\n",
       "       [1, 2, 3, 0]], dtype=int32)"
      ]
     },
     "execution_count": 7,
     "metadata": {},
     "output_type": "execute_result"
    }
   ],
   "source": [
    "n = 4\n",
    "array1d = np.arange(1, n * n + 1)\n",
    "array2d = (array1d % n).reshape((n, -1))\n",
    "array2d"
   ]
  },
  {
   "cell_type": "code",
   "execution_count": 10,
   "id": "4c14da7a",
   "metadata": {},
   "outputs": [
    {
     "data": {
      "text/plain": [
       "array([[1, 2, 3, 4],\n",
       "       [1, 2, 3, 4],\n",
       "       [1, 2, 3, 4],\n",
       "       [1, 2, 3, 4]], dtype=int32)"
      ]
     },
     "execution_count": 10,
     "metadata": {},
     "output_type": "execute_result"
    }
   ],
   "source": [
    "array2d = 1 + np.roll(array2d, 1)\n",
    "array2d"
   ]
  },
  {
   "cell_type": "code",
   "execution_count": 11,
   "id": "054fa01c",
   "metadata": {},
   "outputs": [
    {
     "data": {
      "text/plain": [
       "array([1, 2, 3, 4, 1, 2, 3, 4, 1, 2, 3, 4, 1, 2, 3, 4], dtype=int32)"
      ]
     },
     "execution_count": 11,
     "metadata": {},
     "output_type": "execute_result"
    }
   ],
   "source": [
    "array2d.reshape(-1)"
   ]
  },
  {
   "cell_type": "code",
   "execution_count": 13,
   "id": "c9ced350",
   "metadata": {},
   "outputs": [
    {
     "data": {
      "text/plain": [
       "array([1, 2, 3, 4, 1, 2, 3, 4, 1, 2, 3, 4, 1, 2, 3, 4], dtype=int32)"
      ]
     },
     "execution_count": 13,
     "metadata": {},
     "output_type": "execute_result"
    }
   ],
   "source": [
    "array2d.flatten() #diventa 1d"
   ]
  },
  {
   "cell_type": "code",
   "execution_count": null,
   "id": "e75ee442",
   "metadata": {},
   "outputs": [],
   "source": []
  }
 ],
 "metadata": {
  "kernelspec": {
   "display_name": "Python 3 (ipykernel)",
   "language": "python",
   "name": "python3"
  },
  "language_info": {
   "codemirror_mode": {
    "name": "ipython",
    "version": 3
   },
   "file_extension": ".py",
   "mimetype": "text/x-python",
   "name": "python",
   "nbconvert_exporter": "python",
   "pygments_lexer": "ipython3",
   "version": "3.10.9"
  }
 },
 "nbformat": 4,
 "nbformat_minor": 5
}
