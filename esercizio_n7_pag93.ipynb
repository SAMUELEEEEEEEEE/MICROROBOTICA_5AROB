{
 "cells": [
  {
   "cell_type": "markdown",
   "id": "ceaffdb0",
   "metadata": {},
   "source": [
    "### Esercizio\n",
    "Disegna un bersaglio 10x10:\n",
    "le cornici concentriche hanno valori crescenti verso il centro\n",
    "(quella più esterna ha valori pari a 1)"
   ]
  },
  {
   "cell_type": "code",
   "execution_count": 1,
   "id": "a8b80da9",
   "metadata": {},
   "outputs": [],
   "source": [
    "import numpy as np"
   ]
  },
  {
   "cell_type": "code",
   "execution_count": 2,
   "id": "11c9db5b",
   "metadata": {},
   "outputs": [],
   "source": [
    "DIMENSIONE = 17"
   ]
  },
  {
   "cell_type": "code",
   "execution_count": 3,
   "id": "03923065",
   "metadata": {},
   "outputs": [],
   "source": [
    "bersaglio = np.ones((DIMENSIONE, DIMENSIONE), dtype = np.int8)"
   ]
  },
  {
   "cell_type": "code",
   "execution_count": 4,
   "id": "a5b99f10",
   "metadata": {},
   "outputs": [],
   "source": [
    "for increment in range (DIMENSIONE // 2 + 1):\n",
    "    bersaglio[increment : -increment, increment: -increment] += 1"
   ]
  },
  {
   "cell_type": "code",
   "execution_count": 5,
   "id": "23217437",
   "metadata": {
    "scrolled": true
   },
   "outputs": [
    {
     "data": {
      "text/plain": [
       "array([[1, 1, 1, 1, 1, 1, 1, 1, 1, 1, 1, 1, 1, 1, 1, 1, 1],\n",
       "       [1, 2, 2, 2, 2, 2, 2, 2, 2, 2, 2, 2, 2, 2, 2, 2, 1],\n",
       "       [1, 2, 3, 3, 3, 3, 3, 3, 3, 3, 3, 3, 3, 3, 3, 2, 1],\n",
       "       [1, 2, 3, 4, 4, 4, 4, 4, 4, 4, 4, 4, 4, 4, 3, 2, 1],\n",
       "       [1, 2, 3, 4, 5, 5, 5, 5, 5, 5, 5, 5, 5, 4, 3, 2, 1],\n",
       "       [1, 2, 3, 4, 5, 6, 6, 6, 6, 6, 6, 6, 5, 4, 3, 2, 1],\n",
       "       [1, 2, 3, 4, 5, 6, 7, 7, 7, 7, 7, 6, 5, 4, 3, 2, 1],\n",
       "       [1, 2, 3, 4, 5, 6, 7, 8, 8, 8, 7, 6, 5, 4, 3, 2, 1],\n",
       "       [1, 2, 3, 4, 5, 6, 7, 8, 9, 8, 7, 6, 5, 4, 3, 2, 1],\n",
       "       [1, 2, 3, 4, 5, 6, 7, 8, 8, 8, 7, 6, 5, 4, 3, 2, 1],\n",
       "       [1, 2, 3, 4, 5, 6, 7, 7, 7, 7, 7, 6, 5, 4, 3, 2, 1],\n",
       "       [1, 2, 3, 4, 5, 6, 6, 6, 6, 6, 6, 6, 5, 4, 3, 2, 1],\n",
       "       [1, 2, 3, 4, 5, 5, 5, 5, 5, 5, 5, 5, 5, 4, 3, 2, 1],\n",
       "       [1, 2, 3, 4, 4, 4, 4, 4, 4, 4, 4, 4, 4, 4, 3, 2, 1],\n",
       "       [1, 2, 3, 3, 3, 3, 3, 3, 3, 3, 3, 3, 3, 3, 3, 2, 1],\n",
       "       [1, 2, 2, 2, 2, 2, 2, 2, 2, 2, 2, 2, 2, 2, 2, 2, 1],\n",
       "       [1, 1, 1, 1, 1, 1, 1, 1, 1, 1, 1, 1, 1, 1, 1, 1, 1]], dtype=int8)"
      ]
     },
     "execution_count": 5,
     "metadata": {},
     "output_type": "execute_result"
    }
   ],
   "source": [
    "bersaglio"
   ]
  },
  {
   "cell_type": "code",
   "execution_count": 6,
   "id": "27490ae3",
   "metadata": {},
   "outputs": [
    {
     "data": {
      "text/plain": [
       "<matplotlib.image.AxesImage at 0x1d8ccb98df0>"
      ]
     },
     "execution_count": 6,
     "metadata": {},
     "output_type": "execute_result"
    },
    {
     "data": {
      "image/png": "[encoded data removed]",
      "text/plain": [
       "<Figure size 640x480 with 1 Axes>"
      ]
     },
     "metadata": {},
     "output_type": "display_data"
    }
   ],
   "source": [
    "import matplotlib.pyplot as plt\n",
    "plt.imshow(bersaglio, cmap = \"Reds\")"
   ]
  },
  {
   "cell_type": "code",
   "execution_count": null,
   "id": "debb01f5",
   "metadata": {},
   "outputs": [],
   "source": []
  }
 ],
 "metadata": {
  "kernelspec": {
   "display_name": "Python 3 (ipykernel)",
   "language": "python",
   "name": "python3"
  },
  "language_info": {
   "codemirror_mode": {
    "name": "ipython",
    "version": 3
   },
   "file_extension": ".py",
   "mimetype": "text/x-python",
   "name": "python",
   "nbconvert_exporter": "python",
   "pygments_lexer": "ipython3",
   "version": "3.10.9"
  }
 },
 "nbformat": 4,
 "nbformat_minor": 5
}
