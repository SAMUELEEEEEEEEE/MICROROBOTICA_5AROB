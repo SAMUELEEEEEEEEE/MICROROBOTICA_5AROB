{
 "cells": [
  {
   "cell_type": "code",
   "execution_count": 31,
   "id": "be80d1d4",
   "metadata": {},
   "outputs": [],
   "source": [
    "import numpy as np"
   ]
  },
  {
   "cell_type": "code",
   "execution_count": 32,
   "id": "ce80221d",
   "metadata": {},
   "outputs": [],
   "source": [
    "array = np.array([0, 4, 5, 6, 1, 2, 3, 8, 9, 5])"
   ]
  },
  {
   "cell_type": "code",
   "execution_count": 33,
   "id": "cf39359f",
   "metadata": {},
   "outputs": [
    {
     "data": {
      "text/plain": [
       "array([0, 4, 5, 6, 1, 2, 3, 8, 9, 5])"
      ]
     },
     "execution_count": 33,
     "metadata": {},
     "output_type": "execute_result"
    }
   ],
   "source": [
    "array"
   ]
  },
  {
   "cell_type": "code",
   "execution_count": 34,
   "id": "e4f197d6",
   "metadata": {},
   "outputs": [],
   "source": [
    "position_sx_1 = np.roll(array, -1)\n",
    "position_sx_2 = np.roll(array, -2)"
   ]
  },
  {
   "cell_type": "code",
   "execution_count": 42,
   "id": "af85bab5",
   "metadata": {},
   "outputs": [
    {
     "data": {
      "text/plain": [
       "array([False, False, False, False,  True, False, False, False, False,\n",
       "       False])"
      ]
     },
     "execution_count": 42,
     "metadata": {},
     "output_type": "execute_result"
    }
   ],
   "source": [
    "seq = (array == 1) & (position_sx_1 == 2) & (position_sx_2 == 3)\n",
    "seq"
   ]
  },
  {
   "cell_type": "code",
   "execution_count": 43,
   "id": "d62b627b",
   "metadata": {},
   "outputs": [
    {
     "data": {
      "text/plain": [
       "array([0, 1, 2, 3, 4, 5, 6, 7, 8, 9])"
      ]
     },
     "execution_count": 43,
     "metadata": {},
     "output_type": "execute_result"
    }
   ],
   "source": [
    "indici = np.arange(0, len(array))\n",
    "indici"
   ]
  },
  {
   "cell_type": "code",
   "execution_count": 44,
   "id": "071aeed5",
   "metadata": {},
   "outputs": [
    {
     "data": {
      "text/plain": [
       "array([4])"
      ]
     },
     "execution_count": 44,
     "metadata": {},
     "output_type": "execute_result"
    }
   ],
   "source": [
    "indici[seq]"
   ]
  },
  {
   "cell_type": "code",
   "execution_count": null,
   "id": "97f5366b",
   "metadata": {},
   "outputs": [],
   "source": []
  }
 ],
 "metadata": {
  "kernelspec": {
   "display_name": "Python 3 (ipykernel)",
   "language": "python",
   "name": "python3"
  },
  "language_info": {
   "codemirror_mode": {
    "name": "ipython",
    "version": 3
   },
   "file_extension": ".py",
   "mimetype": "text/x-python",
   "name": "python",
   "nbconvert_exporter": "python",
   "pygments_lexer": "ipython3",
   "version": "3.10.9"
  }
 },
 "nbformat": 4,
 "nbformat_minor": 5
}
